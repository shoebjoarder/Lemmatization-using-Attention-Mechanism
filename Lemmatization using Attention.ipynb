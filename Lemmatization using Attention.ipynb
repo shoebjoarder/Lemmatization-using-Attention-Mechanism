{
 "metadata": {
  "language_info": {
   "codemirror_mode": {
    "name": "ipython",
    "version": 3
   },
   "file_extension": ".py",
   "mimetype": "text/x-python",
   "name": "python",
   "nbconvert_exporter": "python",
   "pygments_lexer": "ipython3",
   "version": "3.8.3-final"
  },
  "orig_nbformat": 2,
  "kernelspec": {
   "name": "python_defaultSpec_1597922774332",
   "display_name": "Python 3.8.3 64-bit ('transformers': venv)"
  }
 },
 "nbformat": 4,
 "nbformat_minor": 2,
 "cells": [
  {
   "cell_type": "markdown",
   "metadata": {},
   "source": [
    "# Lemmatization using Attention Mechanism"
   ]
  },
  {
   "cell_type": "code",
   "execution_count": 2,
   "metadata": {},
   "outputs": [],
   "source": [
    "# Import library\n",
    "import random\n",
    "import torch\n",
    "import torch.nn as nn\n",
    "import pandas as pd\n",
    "import torch.optim as optim\n",
    "import matplotlib.pyplot as plt\n",
    "import numpy as np\n",
    "import seaborn as sns\n",
    "import spacy\n",
    "from utils import process_sentence, bleu, save_checkpoint, load_checkpoint\n",
    "from torch.utils.tensorboard import SummaryWriter  # to print to tensorboard\n",
    "from torchtext.data import Field, BucketIterator, TabularDataset, Dataset\n",
    "from sklearn.model_selection import train_test_split"
   ]
  },
  {
   "cell_type": "code",
   "execution_count": 3,
   "metadata": {},
   "outputs": [
    {
     "output_type": "execute_result",
     "data": {
      "text/plain": "                                              InputText  \\\n9153  The wounded soldiers were taken to a local hos...   \n9154  On Thursday , the BART Board is scheduled to c...   \n9155          The other problem is the lack of organs .   \n9156  Analysts are calling for earnings of 59 cents ...   \n9157                      It 's a thinking experience .   \n\n                                             OutputText  \n9153  the wounded soldier be take to a local hospita...  \n9154  on Thursday , the BART Board be schedule to co...  \n9155           the other problem be the lack of organ .  \n9156  analyst be call for earning of 59 cent a share...  \n9157                      it be a thinking experience .  ",
      "text/html": "<div>\n<style scoped>\n    .dataframe tbody tr th:only-of-type {\n        vertical-align: middle;\n    }\n\n    .dataframe tbody tr th {\n        vertical-align: top;\n    }\n\n    .dataframe thead th {\n        text-align: right;\n    }\n</style>\n<table border=\"1\" class=\"dataframe\">\n  <thead>\n    <tr style=\"text-align: right;\">\n      <th></th>\n      <th>InputText</th>\n      <th>OutputText</th>\n    </tr>\n  </thead>\n  <tbody>\n    <tr>\n      <th>9153</th>\n      <td>The wounded soldiers were taken to a local hos...</td>\n      <td>the wounded soldier be take to a local hospita...</td>\n    </tr>\n    <tr>\n      <th>9154</th>\n      <td>On Thursday , the BART Board is scheduled to c...</td>\n      <td>on Thursday , the BART Board be schedule to co...</td>\n    </tr>\n    <tr>\n      <th>9155</th>\n      <td>The other problem is the lack of organs .</td>\n      <td>the other problem be the lack of organ .</td>\n    </tr>\n    <tr>\n      <th>9156</th>\n      <td>Analysts are calling for earnings of 59 cents ...</td>\n      <td>analyst be call for earning of 59 cent a share...</td>\n    </tr>\n    <tr>\n      <th>9157</th>\n      <td>It 's a thinking experience .</td>\n      <td>it be a thinking experience .</td>\n    </tr>\n  </tbody>\n</table>\n</div>"
     },
     "metadata": {},
     "execution_count": 3
    }
   ],
   "source": [
    "df = pd.read_csv(\"./data/eng-lem.txt\", sep=\"\\t\" , header=0, names=[\"InputText\", \"OutputText\"])\n",
    "df.tail()"
   ]
  },
  {
   "cell_type": "code",
   "execution_count": 4,
   "metadata": {},
   "outputs": [],
   "source": [
    "train, valid = train_test_split(df, test_size=0.2)\n",
    "valid, test = train_test_split(valid, test_size=0.5)"
   ]
  },
  {
   "cell_type": "code",
   "execution_count": 5,
   "metadata": {},
   "outputs": [],
   "source": [
    "train.to_json(\"./data/train.json\", orient=\"records\", lines=True)\n",
    "valid.to_json(\"./data/valid.json\", orient=\"records\", lines=True)\n",
    "test.to_json(\"./data/test.json\", orient=\"records\", lines=True)"
   ]
  },
  {
   "cell_type": "code",
   "execution_count": 6,
   "metadata": {},
   "outputs": [],
   "source": [
    "spacy_input = spacy.load(\"en\")\n",
    "spacy_output = spacy.load(\"en\")\n",
    "\n",
    "def tokenize_input(text):\n",
    "    return [token.text for token in spacy_input.tokenizer(text)]\n",
    "\n",
    "def tokenize_output(text):\n",
    "    return [token.text for token in spacy_output.tokenizer(text)]"
   ]
  },
  {
   "cell_type": "code",
   "execution_count": 7,
   "metadata": {},
   "outputs": [
    {
     "output_type": "display_data",
     "data": {
      "text/plain": "<Figure size 432x288 with 1 Axes>",
      "image/svg+xml": "<?xml version=\"1.0\" encoding=\"utf-8\" standalone=\"no\"?>\r\n<!DOCTYPE svg PUBLIC \"-//W3C//DTD SVG 1.1//EN\"\r\n  \"http://www.w3.org/Graphics/SVG/1.1/DTD/svg11.dtd\">\r\n<!-- Created with matplotlib (https://matplotlib.org/) -->\r\n<svg height=\"262.19625pt\" version=\"1.1\" viewBox=\"0 0 388.009375 262.19625\" width=\"388.009375pt\" xmlns=\"http://www.w3.org/2000/svg\" xmlns:xlink=\"http://www.w3.org/1999/xlink\">\r\n <metadata>\r\n  <rdf:RDF xmlns:cc=\"http://creativecommons.org/ns#\" xmlns:dc=\"http://purl.org/dc/elements/1.1/\" xmlns:rdf=\"http://www.w3.org/1999/02/22-rdf-syntax-ns#\">\r\n   <cc:Work>\r\n    <dc:type rdf:resource=\"http://purl.org/dc/dcmitype/StillImage\"/>\r\n    <dc:date>2020-08-20T13:29:20.403387</dc:date>\r\n    <dc:format>image/svg+xml</dc:format>\r\n    <dc:creator>\r\n     <cc:Agent>\r\n      <dc:title>Matplotlib v3.3.0, https://matplotlib.org/</dc:title>\r\n     </cc:Agent>\r\n    </dc:creator>\r\n   </cc:Work>\r\n  </rdf:RDF>\r\n </metadata>\r\n <defs>\r\n  <style type=\"text/css\">*{stroke-linecap:butt;stroke-linejoin:round;}</style>\r\n </defs>\r\n <g id=\"figure_1\">\r\n  <g id=\"patch_1\">\r\n   <path d=\"M 0 262.19625 \r\nL 388.009375 262.19625 \r\nL 388.009375 0 \r\nL 0 0 \r\nz\r\n\" style=\"fill:none;\"/>\r\n  </g>\r\n  <g id=\"axes_1\">\r\n   <g id=\"patch_2\">\r\n    <path d=\"M 36.465625 224.64 \r\nL 371.265625 224.64 \r\nL 371.265625 7.2 \r\nL 36.465625 7.2 \r\nz\r\n\" style=\"fill:#ffffff;\"/>\r\n   </g>\r\n   <g id=\"patch_3\">\r\n    <path clip-path=\"url(#p399d8d2806)\" d=\"M 49.857625 224.64 \r\nL 54.959339 224.64 \r\nL 54.959339 206.731644 \r\nL 49.857625 206.731644 \r\nz\r\n\" style=\"fill:#1f77b4;opacity:0.4;\"/>\r\n   </g>\r\n   <g id=\"patch_4\">\r\n    <path clip-path=\"url(#p399d8d2806)\" d=\"M 54.959339 224.64 \r\nL 60.061054 224.64 \r\nL 60.061054 153.65779 \r\nL 54.959339 153.65779 \r\nz\r\n\" style=\"fill:#1f77b4;opacity:0.4;\"/>\r\n   </g>\r\n   <g id=\"patch_5\">\r\n    <path clip-path=\"url(#p399d8d2806)\" d=\"M 60.061054 224.64 \r\nL 65.162768 224.64 \r\nL 65.162768 166.356442 \r\nL 60.061054 166.356442 \r\nz\r\n\" style=\"fill:#1f77b4;opacity:0.4;\"/>\r\n   </g>\r\n   <g id=\"patch_6\">\r\n    <path clip-path=\"url(#p399d8d2806)\" d=\"M 65.162768 224.64 \r\nL 70.264482 224.64 \r\nL 70.264482 79.419515 \r\nL 65.162768 79.419515 \r\nz\r\n\" style=\"fill:#1f77b4;opacity:0.4;\"/>\r\n   </g>\r\n   <g id=\"patch_7\">\r\n    <path clip-path=\"url(#p399d8d2806)\" d=\"M 70.264482 224.64 \r\nL 75.366196 224.64 \r\nL 75.366196 133.470189 \r\nL 70.264482 133.470189 \r\nz\r\n\" style=\"fill:#1f77b4;opacity:0.4;\"/>\r\n   </g>\r\n   <g id=\"patch_8\">\r\n    <path clip-path=\"url(#p399d8d2806)\" d=\"M 75.366196 224.64 \r\nL 80.467911 224.64 \r\nL 80.467911 45.882049 \r\nL 75.366196 45.882049 \r\nz\r\n\" style=\"fill:#1f77b4;opacity:0.4;\"/>\r\n   </g>\r\n   <g id=\"patch_9\">\r\n    <path clip-path=\"url(#p399d8d2806)\" d=\"M 80.467911 224.64 \r\nL 85.569625 224.64 \r\nL 85.569625 126.958059 \r\nL 80.467911 126.958059 \r\nz\r\n\" style=\"fill:#1f77b4;opacity:0.4;\"/>\r\n   </g>\r\n   <g id=\"patch_10\">\r\n    <path clip-path=\"url(#p399d8d2806)\" d=\"M 85.569625 224.64 \r\nL 90.671339 224.64 \r\nL 90.671339 35.137035 \r\nL 85.569625 35.137035 \r\nz\r\n\" style=\"fill:#1f77b4;opacity:0.4;\"/>\r\n   </g>\r\n   <g id=\"patch_11\">\r\n    <path clip-path=\"url(#p399d8d2806)\" d=\"M 90.671339 224.64 \r\nL 95.773054 224.64 \r\nL 95.773054 125.655633 \r\nL 90.671339 125.655633 \r\nz\r\n\" style=\"fill:#1f77b4;opacity:0.4;\"/>\r\n   </g>\r\n   <g id=\"patch_12\">\r\n    <path clip-path=\"url(#p399d8d2806)\" d=\"M 95.773054 224.64 \r\nL 100.874768 224.64 \r\nL 100.874768 17.554286 \r\nL 95.773054 17.554286 \r\nz\r\n\" style=\"fill:#1f77b4;opacity:0.4;\"/>\r\n   </g>\r\n   <g id=\"patch_13\">\r\n    <path clip-path=\"url(#p399d8d2806)\" d=\"M 100.874768 224.64 \r\nL 105.976482 224.64 \r\nL 105.976482 116.538652 \r\nL 100.874768 116.538652 \r\nz\r\n\" style=\"fill:#1f77b4;opacity:0.4;\"/>\r\n   </g>\r\n   <g id=\"patch_14\">\r\n    <path clip-path=\"url(#p399d8d2806)\" d=\"M 105.976482 224.64 \r\nL 111.078196 224.64 \r\nL 111.078196 17.879892 \r\nL 105.976482 17.879892 \r\nz\r\n\" style=\"fill:#1f77b4;opacity:0.4;\"/>\r\n   </g>\r\n   <g id=\"patch_15\">\r\n    <path clip-path=\"url(#p399d8d2806)\" d=\"M 111.078196 224.64 \r\nL 116.179911 224.64 \r\nL 116.179911 119.794717 \r\nL 111.078196 119.794717 \r\nz\r\n\" style=\"fill:#1f77b4;opacity:0.4;\"/>\r\n   </g>\r\n   <g id=\"patch_16\">\r\n    <path clip-path=\"url(#p399d8d2806)\" d=\"M 116.179911 224.64 \r\nL 121.281625 224.64 \r\nL 121.281625 27.648086 \r\nL 116.179911 27.648086 \r\nz\r\n\" style=\"fill:#1f77b4;opacity:0.4;\"/>\r\n   </g>\r\n   <g id=\"patch_17\">\r\n    <path clip-path=\"url(#p399d8d2806)\" d=\"M 121.281625 224.64 \r\nL 126.383339 224.64 \r\nL 126.383339 127.283666 \r\nL 121.281625 127.283666 \r\nz\r\n\" style=\"fill:#1f77b4;opacity:0.4;\"/>\r\n   </g>\r\n   <g id=\"patch_18\">\r\n    <path clip-path=\"url(#p399d8d2806)\" d=\"M 126.383339 224.64 \r\nL 131.485054 224.64 \r\nL 131.485054 39.369919 \r\nL 126.383339 39.369919 \r\nz\r\n\" style=\"fill:#1f77b4;opacity:0.4;\"/>\r\n   </g>\r\n   <g id=\"patch_19\">\r\n    <path clip-path=\"url(#p399d8d2806)\" d=\"M 131.485054 224.64 \r\nL 136.586768 224.64 \r\nL 136.586768 134.121402 \r\nL 131.485054 134.121402 \r\nz\r\n\" style=\"fill:#1f77b4;opacity:0.4;\"/>\r\n   </g>\r\n   <g id=\"patch_20\">\r\n    <path clip-path=\"url(#p399d8d2806)\" d=\"M 136.586768 224.64 \r\nL 141.688482 224.64 \r\nL 141.688482 75.837844 \r\nL 136.586768 75.837844 \r\nz\r\n\" style=\"fill:#1f77b4;opacity:0.4;\"/>\r\n   </g>\r\n   <g id=\"patch_21\">\r\n    <path clip-path=\"url(#p399d8d2806)\" d=\"M 141.688482 224.64 \r\nL 146.790196 224.64 \r\nL 146.790196 151.378544 \r\nL 141.688482 151.378544 \r\nz\r\n\" style=\"fill:#1f77b4;opacity:0.4;\"/>\r\n   </g>\r\n   <g id=\"patch_22\">\r\n    <path clip-path=\"url(#p399d8d2806)\" d=\"M 146.790196 224.64 \r\nL 151.891911 224.64 \r\nL 151.891911 108.072884 \r\nL 146.790196 108.072884 \r\nz\r\n\" style=\"fill:#1f77b4;opacity:0.4;\"/>\r\n   </g>\r\n   <g id=\"patch_23\">\r\n    <path clip-path=\"url(#p399d8d2806)\" d=\"M 151.891911 224.64 \r\nL 156.993625 224.64 \r\nL 156.993625 172.542965 \r\nL 151.891911 172.542965 \r\nz\r\n\" style=\"fill:#1f77b4;opacity:0.4;\"/>\r\n   </g>\r\n   <g id=\"patch_24\">\r\n    <path clip-path=\"url(#p399d8d2806)\" d=\"M 156.993625 224.64 \r\nL 162.095339 224.64 \r\nL 162.095339 133.144582 \r\nL 156.993625 133.144582 \r\nz\r\n\" style=\"fill:#1f77b4;opacity:0.4;\"/>\r\n   </g>\r\n   <g id=\"patch_25\">\r\n    <path clip-path=\"url(#p399d8d2806)\" d=\"M 162.095339 224.64 \r\nL 167.197054 224.64 \r\nL 167.197054 145.192022 \r\nL 162.095339 145.192022 \r\nz\r\n\" style=\"fill:#1f77b4;opacity:0.4;\"/>\r\n   </g>\r\n   <g id=\"patch_26\">\r\n    <path clip-path=\"url(#p399d8d2806)\" d=\"M 167.197054 224.64 \r\nL 172.298768 224.64 \r\nL 172.298768 187.520863 \r\nL 167.197054 187.520863 \r\nz\r\n\" style=\"fill:#1f77b4;opacity:0.4;\"/>\r\n   </g>\r\n   <g id=\"patch_27\">\r\n    <path clip-path=\"url(#p399d8d2806)\" d=\"M 172.298768 224.64 \r\nL 177.400482 224.64 \r\nL 177.400482 163.425984 \r\nL 172.298768 163.425984 \r\nz\r\n\" style=\"fill:#1f77b4;opacity:0.4;\"/>\r\n   </g>\r\n   <g id=\"patch_28\">\r\n    <path clip-path=\"url(#p399d8d2806)\" d=\"M 177.400482 224.64 \r\nL 182.502196 224.64 \r\nL 182.502196 195.335418 \r\nL 177.400482 195.335418 \r\nz\r\n\" style=\"fill:#1f77b4;opacity:0.4;\"/>\r\n   </g>\r\n   <g id=\"patch_29\">\r\n    <path clip-path=\"url(#p399d8d2806)\" d=\"M 182.502196 224.64 \r\nL 187.603911 224.64 \r\nL 187.603911 173.845391 \r\nL 182.502196 173.845391 \r\nz\r\n\" style=\"fill:#1f77b4;opacity:0.4;\"/>\r\n   </g>\r\n   <g id=\"patch_30\">\r\n    <path clip-path=\"url(#p399d8d2806)\" d=\"M 187.603911 224.64 \r\nL 192.705625 224.64 \r\nL 192.705625 209.336496 \r\nL 187.603911 209.336496 \r\nz\r\n\" style=\"fill:#1f77b4;opacity:0.4;\"/>\r\n   </g>\r\n   <g id=\"patch_31\">\r\n    <path clip-path=\"url(#p399d8d2806)\" d=\"M 192.705625 224.64 \r\nL 197.807339 224.64 \r\nL 197.807339 205.429218 \r\nL 192.705625 205.429218 \r\nz\r\n\" style=\"fill:#1f77b4;opacity:0.4;\"/>\r\n   </g>\r\n   <g id=\"patch_32\">\r\n    <path clip-path=\"url(#p399d8d2806)\" d=\"M 197.807339 224.64 \r\nL 202.909054 224.64 \r\nL 202.909054 215.523019 \r\nL 197.807339 215.523019 \r\nz\r\n\" style=\"fill:#1f77b4;opacity:0.4;\"/>\r\n   </g>\r\n   <g id=\"patch_33\">\r\n    <path clip-path=\"url(#p399d8d2806)\" d=\"M 202.909054 224.64 \r\nL 208.010768 224.64 \r\nL 208.010768 214.220593 \r\nL 202.909054 214.220593 \r\nz\r\n\" style=\"fill:#1f77b4;opacity:0.4;\"/>\r\n   </g>\r\n   <g id=\"patch_34\">\r\n    <path clip-path=\"url(#p399d8d2806)\" d=\"M 208.010768 224.64 \r\nL 213.112482 224.64 \r\nL 213.112482 221.709542 \r\nL 208.010768 221.709542 \r\nz\r\n\" style=\"fill:#1f77b4;opacity:0.4;\"/>\r\n   </g>\r\n   <g id=\"patch_35\">\r\n    <path clip-path=\"url(#p399d8d2806)\" d=\"M 213.112482 224.64 \r\nL 218.214196 224.64 \r\nL 218.214196 215.848625 \r\nL 213.112482 215.848625 \r\nz\r\n\" style=\"fill:#1f77b4;opacity:0.4;\"/>\r\n   </g>\r\n   <g id=\"patch_36\">\r\n    <path clip-path=\"url(#p399d8d2806)\" d=\"M 218.214196 224.64 \r\nL 223.315911 224.64 \r\nL 223.315911 221.383935 \r\nL 218.214196 221.383935 \r\nz\r\n\" style=\"fill:#1f77b4;opacity:0.4;\"/>\r\n   </g>\r\n   <g id=\"patch_37\">\r\n    <path clip-path=\"url(#p399d8d2806)\" d=\"M 223.315911 224.64 \r\nL 228.417625 224.64 \r\nL 228.417625 204.452399 \r\nL 223.315911 204.452399 \r\nz\r\n\" style=\"fill:#1f77b4;opacity:0.4;\"/>\r\n   </g>\r\n   <g id=\"patch_38\">\r\n    <path clip-path=\"url(#p399d8d2806)\" d=\"M 228.417625 224.64 \r\nL 233.519339 224.64 \r\nL 233.519339 219.10469 \r\nL 228.417625 219.10469 \r\nz\r\n\" style=\"fill:#1f77b4;opacity:0.4;\"/>\r\n   </g>\r\n   <g id=\"patch_39\">\r\n    <path clip-path=\"url(#p399d8d2806)\" d=\"M 233.519339 224.64 \r\nL 238.621054 224.64 \r\nL 238.621054 223.988787 \r\nL 233.519339 223.988787 \r\nz\r\n\" style=\"fill:#1f77b4;opacity:0.4;\"/>\r\n   </g>\r\n   <g id=\"patch_40\">\r\n    <path clip-path=\"url(#p399d8d2806)\" d=\"M 238.621054 224.64 \r\nL 243.722768 224.64 \r\nL 243.722768 224.314394 \r\nL 238.621054 224.314394 \r\nz\r\n\" style=\"fill:#1f77b4;opacity:0.4;\"/>\r\n   </g>\r\n   <g id=\"patch_41\">\r\n    <path clip-path=\"url(#p399d8d2806)\" d=\"M 243.722768 224.64 \r\nL 248.824482 224.64 \r\nL 248.824482 224.314394 \r\nL 243.722768 224.314394 \r\nz\r\n\" style=\"fill:#1f77b4;opacity:0.4;\"/>\r\n   </g>\r\n   <g id=\"patch_42\">\r\n    <path clip-path=\"url(#p399d8d2806)\" d=\"M 248.824482 224.64 \r\nL 253.926196 224.64 \r\nL 253.926196 224.64 \r\nL 248.824482 224.64 \r\nz\r\n\" style=\"fill:#1f77b4;opacity:0.4;\"/>\r\n   </g>\r\n   <g id=\"patch_43\">\r\n    <path clip-path=\"url(#p399d8d2806)\" d=\"M 253.926196 224.64 \r\nL 259.027911 224.64 \r\nL 259.027911 224.64 \r\nL 253.926196 224.64 \r\nz\r\n\" style=\"fill:#1f77b4;opacity:0.4;\"/>\r\n   </g>\r\n   <g id=\"patch_44\">\r\n    <path clip-path=\"url(#p399d8d2806)\" d=\"M 259.027911 224.64 \r\nL 264.129625 224.64 \r\nL 264.129625 224.314394 \r\nL 259.027911 224.314394 \r\nz\r\n\" style=\"fill:#1f77b4;opacity:0.4;\"/>\r\n   </g>\r\n   <g id=\"matplotlib.axis_1\">\r\n    <g id=\"xtick_1\">\r\n     <g id=\"line2d_1\">\r\n      <defs>\r\n       <path d=\"M 0 0 \r\nL 0 3.5 \r\n\" id=\"me57caaaee6\" style=\"stroke:#000000;stroke-width:0.8;\"/>\r\n      </defs>\r\n      <g>\r\n       <use style=\"stroke:#000000;stroke-width:0.8;\" x=\"36.465625\" xlink:href=\"#me57caaaee6\" y=\"224.64\"/>\r\n      </g>\r\n     </g>\r\n     <g id=\"text_1\">\r\n      <!-- 0 -->\r\n      <g transform=\"translate(33.284375 239.238437)scale(0.1 -0.1)\">\r\n       <defs>\r\n        <path d=\"M 31.78125 66.40625 \r\nQ 24.171875 66.40625 20.328125 58.90625 \r\nQ 16.5 51.421875 16.5 36.375 \r\nQ 16.5 21.390625 20.328125 13.890625 \r\nQ 24.171875 6.390625 31.78125 6.390625 \r\nQ 39.453125 6.390625 43.28125 13.890625 \r\nQ 47.125 21.390625 47.125 36.375 \r\nQ 47.125 51.421875 43.28125 58.90625 \r\nQ 39.453125 66.40625 31.78125 66.40625 \r\nz\r\nM 31.78125 74.21875 \r\nQ 44.046875 74.21875 50.515625 64.515625 \r\nQ 56.984375 54.828125 56.984375 36.375 \r\nQ 56.984375 17.96875 50.515625 8.265625 \r\nQ 44.046875 -1.421875 31.78125 -1.421875 \r\nQ 19.53125 -1.421875 13.0625 8.265625 \r\nQ 6.59375 17.96875 6.59375 36.375 \r\nQ 6.59375 54.828125 13.0625 64.515625 \r\nQ 19.53125 74.21875 31.78125 74.21875 \r\nz\r\n\" id=\"DejaVuSans-48\"/>\r\n       </defs>\r\n       <use xlink:href=\"#DejaVuSans-48\"/>\r\n      </g>\r\n     </g>\r\n    </g>\r\n    <g id=\"xtick_2\">\r\n     <g id=\"line2d_2\">\r\n      <g>\r\n       <use style=\"stroke:#000000;stroke-width:0.8;\" x=\"103.425625\" xlink:href=\"#me57caaaee6\" y=\"224.64\"/>\r\n      </g>\r\n     </g>\r\n     <g id=\"text_2\">\r\n      <!-- 20 -->\r\n      <g transform=\"translate(97.063125 239.238437)scale(0.1 -0.1)\">\r\n       <defs>\r\n        <path d=\"M 19.1875 8.296875 \r\nL 53.609375 8.296875 \r\nL 53.609375 0 \r\nL 7.328125 0 \r\nL 7.328125 8.296875 \r\nQ 12.9375 14.109375 22.625 23.890625 \r\nQ 32.328125 33.6875 34.8125 36.53125 \r\nQ 39.546875 41.84375 41.421875 45.53125 \r\nQ 43.3125 49.21875 43.3125 52.78125 \r\nQ 43.3125 58.59375 39.234375 62.25 \r\nQ 35.15625 65.921875 28.609375 65.921875 \r\nQ 23.96875 65.921875 18.8125 64.3125 \r\nQ 13.671875 62.703125 7.8125 59.421875 \r\nL 7.8125 69.390625 \r\nQ 13.765625 71.78125 18.9375 73 \r\nQ 24.125 74.21875 28.421875 74.21875 \r\nQ 39.75 74.21875 46.484375 68.546875 \r\nQ 53.21875 62.890625 53.21875 53.421875 \r\nQ 53.21875 48.921875 51.53125 44.890625 \r\nQ 49.859375 40.875 45.40625 35.40625 \r\nQ 44.1875 33.984375 37.640625 27.21875 \r\nQ 31.109375 20.453125 19.1875 8.296875 \r\nz\r\n\" id=\"DejaVuSans-50\"/>\r\n       </defs>\r\n       <use xlink:href=\"#DejaVuSans-50\"/>\r\n       <use x=\"63.623047\" xlink:href=\"#DejaVuSans-48\"/>\r\n      </g>\r\n     </g>\r\n    </g>\r\n    <g id=\"xtick_3\">\r\n     <g id=\"line2d_3\">\r\n      <g>\r\n       <use style=\"stroke:#000000;stroke-width:0.8;\" x=\"170.385625\" xlink:href=\"#me57caaaee6\" y=\"224.64\"/>\r\n      </g>\r\n     </g>\r\n     <g id=\"text_3\">\r\n      <!-- 40 -->\r\n      <g transform=\"translate(164.023125 239.238437)scale(0.1 -0.1)\">\r\n       <defs>\r\n        <path d=\"M 37.796875 64.3125 \r\nL 12.890625 25.390625 \r\nL 37.796875 25.390625 \r\nz\r\nM 35.203125 72.90625 \r\nL 47.609375 72.90625 \r\nL 47.609375 25.390625 \r\nL 58.015625 25.390625 \r\nL 58.015625 17.1875 \r\nL 47.609375 17.1875 \r\nL 47.609375 0 \r\nL 37.796875 0 \r\nL 37.796875 17.1875 \r\nL 4.890625 17.1875 \r\nL 4.890625 26.703125 \r\nz\r\n\" id=\"DejaVuSans-52\"/>\r\n       </defs>\r\n       <use xlink:href=\"#DejaVuSans-52\"/>\r\n       <use x=\"63.623047\" xlink:href=\"#DejaVuSans-48\"/>\r\n      </g>\r\n     </g>\r\n    </g>\r\n    <g id=\"xtick_4\">\r\n     <g id=\"line2d_4\">\r\n      <g>\r\n       <use style=\"stroke:#000000;stroke-width:0.8;\" x=\"237.345625\" xlink:href=\"#me57caaaee6\" y=\"224.64\"/>\r\n      </g>\r\n     </g>\r\n     <g id=\"text_4\">\r\n      <!-- 60 -->\r\n      <g transform=\"translate(230.983125 239.238437)scale(0.1 -0.1)\">\r\n       <defs>\r\n        <path d=\"M 33.015625 40.375 \r\nQ 26.375 40.375 22.484375 35.828125 \r\nQ 18.609375 31.296875 18.609375 23.390625 \r\nQ 18.609375 15.53125 22.484375 10.953125 \r\nQ 26.375 6.390625 33.015625 6.390625 \r\nQ 39.65625 6.390625 43.53125 10.953125 \r\nQ 47.40625 15.53125 47.40625 23.390625 \r\nQ 47.40625 31.296875 43.53125 35.828125 \r\nQ 39.65625 40.375 33.015625 40.375 \r\nz\r\nM 52.59375 71.296875 \r\nL 52.59375 62.3125 \r\nQ 48.875 64.0625 45.09375 64.984375 \r\nQ 41.3125 65.921875 37.59375 65.921875 \r\nQ 27.828125 65.921875 22.671875 59.328125 \r\nQ 17.53125 52.734375 16.796875 39.40625 \r\nQ 19.671875 43.65625 24.015625 45.921875 \r\nQ 28.375 48.1875 33.59375 48.1875 \r\nQ 44.578125 48.1875 50.953125 41.515625 \r\nQ 57.328125 34.859375 57.328125 23.390625 \r\nQ 57.328125 12.15625 50.6875 5.359375 \r\nQ 44.046875 -1.421875 33.015625 -1.421875 \r\nQ 20.359375 -1.421875 13.671875 8.265625 \r\nQ 6.984375 17.96875 6.984375 36.375 \r\nQ 6.984375 53.65625 15.1875 63.9375 \r\nQ 23.390625 74.21875 37.203125 74.21875 \r\nQ 40.921875 74.21875 44.703125 73.484375 \r\nQ 48.484375 72.75 52.59375 71.296875 \r\nz\r\n\" id=\"DejaVuSans-54\"/>\r\n       </defs>\r\n       <use xlink:href=\"#DejaVuSans-54\"/>\r\n       <use x=\"63.623047\" xlink:href=\"#DejaVuSans-48\"/>\r\n      </g>\r\n     </g>\r\n    </g>\r\n    <g id=\"xtick_5\">\r\n     <g id=\"line2d_5\">\r\n      <g>\r\n       <use style=\"stroke:#000000;stroke-width:0.8;\" x=\"304.305625\" xlink:href=\"#me57caaaee6\" y=\"224.64\"/>\r\n      </g>\r\n     </g>\r\n     <g id=\"text_5\">\r\n      <!-- 80 -->\r\n      <g transform=\"translate(297.943125 239.238437)scale(0.1 -0.1)\">\r\n       <defs>\r\n        <path d=\"M 31.78125 34.625 \r\nQ 24.75 34.625 20.71875 30.859375 \r\nQ 16.703125 27.09375 16.703125 20.515625 \r\nQ 16.703125 13.921875 20.71875 10.15625 \r\nQ 24.75 6.390625 31.78125 6.390625 \r\nQ 38.8125 6.390625 42.859375 10.171875 \r\nQ 46.921875 13.96875 46.921875 20.515625 \r\nQ 46.921875 27.09375 42.890625 30.859375 \r\nQ 38.875 34.625 31.78125 34.625 \r\nz\r\nM 21.921875 38.8125 \r\nQ 15.578125 40.375 12.03125 44.71875 \r\nQ 8.5 49.078125 8.5 55.328125 \r\nQ 8.5 64.0625 14.71875 69.140625 \r\nQ 20.953125 74.21875 31.78125 74.21875 \r\nQ 42.671875 74.21875 48.875 69.140625 \r\nQ 55.078125 64.0625 55.078125 55.328125 \r\nQ 55.078125 49.078125 51.53125 44.71875 \r\nQ 48 40.375 41.703125 38.8125 \r\nQ 48.828125 37.15625 52.796875 32.3125 \r\nQ 56.78125 27.484375 56.78125 20.515625 \r\nQ 56.78125 9.90625 50.3125 4.234375 \r\nQ 43.84375 -1.421875 31.78125 -1.421875 \r\nQ 19.734375 -1.421875 13.25 4.234375 \r\nQ 6.78125 9.90625 6.78125 20.515625 \r\nQ 6.78125 27.484375 10.78125 32.3125 \r\nQ 14.796875 37.15625 21.921875 38.8125 \r\nz\r\nM 18.3125 54.390625 \r\nQ 18.3125 48.734375 21.84375 45.5625 \r\nQ 25.390625 42.390625 31.78125 42.390625 \r\nQ 38.140625 42.390625 41.71875 45.5625 \r\nQ 45.3125 48.734375 45.3125 54.390625 \r\nQ 45.3125 60.0625 41.71875 63.234375 \r\nQ 38.140625 66.40625 31.78125 66.40625 \r\nQ 25.390625 66.40625 21.84375 63.234375 \r\nQ 18.3125 60.0625 18.3125 54.390625 \r\nz\r\n\" id=\"DejaVuSans-56\"/>\r\n       </defs>\r\n       <use xlink:href=\"#DejaVuSans-56\"/>\r\n       <use x=\"63.623047\" xlink:href=\"#DejaVuSans-48\"/>\r\n      </g>\r\n     </g>\r\n    </g>\r\n    <g id=\"xtick_6\">\r\n     <g id=\"line2d_6\">\r\n      <g>\r\n       <use style=\"stroke:#000000;stroke-width:0.8;\" x=\"371.265625\" xlink:href=\"#me57caaaee6\" y=\"224.64\"/>\r\n      </g>\r\n     </g>\r\n     <g id=\"text_6\">\r\n      <!-- 100 -->\r\n      <g transform=\"translate(361.721875 239.238437)scale(0.1 -0.1)\">\r\n       <defs>\r\n        <path d=\"M 12.40625 8.296875 \r\nL 28.515625 8.296875 \r\nL 28.515625 63.921875 \r\nL 10.984375 60.40625 \r\nL 10.984375 69.390625 \r\nL 28.421875 72.90625 \r\nL 38.28125 72.90625 \r\nL 38.28125 8.296875 \r\nL 54.390625 8.296875 \r\nL 54.390625 0 \r\nL 12.40625 0 \r\nz\r\n\" id=\"DejaVuSans-49\"/>\r\n       </defs>\r\n       <use xlink:href=\"#DejaVuSans-49\"/>\r\n       <use x=\"63.623047\" xlink:href=\"#DejaVuSans-48\"/>\r\n       <use x=\"127.246094\" xlink:href=\"#DejaVuSans-48\"/>\r\n      </g>\r\n     </g>\r\n    </g>\r\n    <g id=\"text_7\">\r\n     <!-- Token count -->\r\n     <g transform=\"translate(173.947656 252.916562)scale(0.1 -0.1)\">\r\n      <defs>\r\n       <path d=\"M -0.296875 72.90625 \r\nL 61.375 72.90625 \r\nL 61.375 64.59375 \r\nL 35.5 64.59375 \r\nL 35.5 0 \r\nL 25.59375 0 \r\nL 25.59375 64.59375 \r\nL -0.296875 64.59375 \r\nz\r\n\" id=\"DejaVuSans-84\"/>\r\n       <path d=\"M 30.609375 48.390625 \r\nQ 23.390625 48.390625 19.1875 42.75 \r\nQ 14.984375 37.109375 14.984375 27.296875 \r\nQ 14.984375 17.484375 19.15625 11.84375 \r\nQ 23.34375 6.203125 30.609375 6.203125 \r\nQ 37.796875 6.203125 41.984375 11.859375 \r\nQ 46.1875 17.53125 46.1875 27.296875 \r\nQ 46.1875 37.015625 41.984375 42.703125 \r\nQ 37.796875 48.390625 30.609375 48.390625 \r\nz\r\nM 30.609375 56 \r\nQ 42.328125 56 49.015625 48.375 \r\nQ 55.71875 40.765625 55.71875 27.296875 \r\nQ 55.71875 13.875 49.015625 6.21875 \r\nQ 42.328125 -1.421875 30.609375 -1.421875 \r\nQ 18.84375 -1.421875 12.171875 6.21875 \r\nQ 5.515625 13.875 5.515625 27.296875 \r\nQ 5.515625 40.765625 12.171875 48.375 \r\nQ 18.84375 56 30.609375 56 \r\nz\r\n\" id=\"DejaVuSans-111\"/>\r\n       <path d=\"M 9.078125 75.984375 \r\nL 18.109375 75.984375 \r\nL 18.109375 31.109375 \r\nL 44.921875 54.6875 \r\nL 56.390625 54.6875 \r\nL 27.390625 29.109375 \r\nL 57.625 0 \r\nL 45.90625 0 \r\nL 18.109375 26.703125 \r\nL 18.109375 0 \r\nL 9.078125 0 \r\nz\r\n\" id=\"DejaVuSans-107\"/>\r\n       <path d=\"M 56.203125 29.59375 \r\nL 56.203125 25.203125 \r\nL 14.890625 25.203125 \r\nQ 15.484375 15.921875 20.484375 11.0625 \r\nQ 25.484375 6.203125 34.421875 6.203125 \r\nQ 39.59375 6.203125 44.453125 7.46875 \r\nQ 49.3125 8.734375 54.109375 11.28125 \r\nL 54.109375 2.78125 \r\nQ 49.265625 0.734375 44.1875 -0.34375 \r\nQ 39.109375 -1.421875 33.890625 -1.421875 \r\nQ 20.796875 -1.421875 13.15625 6.1875 \r\nQ 5.515625 13.8125 5.515625 26.8125 \r\nQ 5.515625 40.234375 12.765625 48.109375 \r\nQ 20.015625 56 32.328125 56 \r\nQ 43.359375 56 49.78125 48.890625 \r\nQ 56.203125 41.796875 56.203125 29.59375 \r\nz\r\nM 47.21875 32.234375 \r\nQ 47.125 39.59375 43.09375 43.984375 \r\nQ 39.0625 48.390625 32.421875 48.390625 \r\nQ 24.90625 48.390625 20.390625 44.140625 \r\nQ 15.875 39.890625 15.1875 32.171875 \r\nz\r\n\" id=\"DejaVuSans-101\"/>\r\n       <path d=\"M 54.890625 33.015625 \r\nL 54.890625 0 \r\nL 45.90625 0 \r\nL 45.90625 32.71875 \r\nQ 45.90625 40.484375 42.875 44.328125 \r\nQ 39.84375 48.1875 33.796875 48.1875 \r\nQ 26.515625 48.1875 22.3125 43.546875 \r\nQ 18.109375 38.921875 18.109375 30.90625 \r\nL 18.109375 0 \r\nL 9.078125 0 \r\nL 9.078125 54.6875 \r\nL 18.109375 54.6875 \r\nL 18.109375 46.1875 \r\nQ 21.34375 51.125 25.703125 53.5625 \r\nQ 30.078125 56 35.796875 56 \r\nQ 45.21875 56 50.046875 50.171875 \r\nQ 54.890625 44.34375 54.890625 33.015625 \r\nz\r\n\" id=\"DejaVuSans-110\"/>\r\n       <path id=\"DejaVuSans-32\"/>\r\n       <path d=\"M 48.78125 52.59375 \r\nL 48.78125 44.1875 \r\nQ 44.96875 46.296875 41.140625 47.34375 \r\nQ 37.3125 48.390625 33.40625 48.390625 \r\nQ 24.65625 48.390625 19.8125 42.84375 \r\nQ 14.984375 37.3125 14.984375 27.296875 \r\nQ 14.984375 17.28125 19.8125 11.734375 \r\nQ 24.65625 6.203125 33.40625 6.203125 \r\nQ 37.3125 6.203125 41.140625 7.25 \r\nQ 44.96875 8.296875 48.78125 10.40625 \r\nL 48.78125 2.09375 \r\nQ 45.015625 0.34375 40.984375 -0.53125 \r\nQ 36.96875 -1.421875 32.421875 -1.421875 \r\nQ 20.0625 -1.421875 12.78125 6.34375 \r\nQ 5.515625 14.109375 5.515625 27.296875 \r\nQ 5.515625 40.671875 12.859375 48.328125 \r\nQ 20.21875 56 33.015625 56 \r\nQ 37.15625 56 41.109375 55.140625 \r\nQ 45.0625 54.296875 48.78125 52.59375 \r\nz\r\n\" id=\"DejaVuSans-99\"/>\r\n       <path d=\"M 8.5 21.578125 \r\nL 8.5 54.6875 \r\nL 17.484375 54.6875 \r\nL 17.484375 21.921875 \r\nQ 17.484375 14.15625 20.5 10.265625 \r\nQ 23.53125 6.390625 29.59375 6.390625 \r\nQ 36.859375 6.390625 41.078125 11.03125 \r\nQ 45.3125 15.671875 45.3125 23.6875 \r\nL 45.3125 54.6875 \r\nL 54.296875 54.6875 \r\nL 54.296875 0 \r\nL 45.3125 0 \r\nL 45.3125 8.40625 \r\nQ 42.046875 3.421875 37.71875 1 \r\nQ 33.40625 -1.421875 27.6875 -1.421875 \r\nQ 18.265625 -1.421875 13.375 4.4375 \r\nQ 8.5 10.296875 8.5 21.578125 \r\nz\r\nM 31.109375 56 \r\nz\r\n\" id=\"DejaVuSans-117\"/>\r\n       <path d=\"M 18.3125 70.21875 \r\nL 18.3125 54.6875 \r\nL 36.8125 54.6875 \r\nL 36.8125 47.703125 \r\nL 18.3125 47.703125 \r\nL 18.3125 18.015625 \r\nQ 18.3125 11.328125 20.140625 9.421875 \r\nQ 21.96875 7.515625 27.59375 7.515625 \r\nL 36.8125 7.515625 \r\nL 36.8125 0 \r\nL 27.59375 0 \r\nQ 17.1875 0 13.234375 3.875 \r\nQ 9.28125 7.765625 9.28125 18.015625 \r\nL 9.28125 47.703125 \r\nL 2.6875 47.703125 \r\nL 2.6875 54.6875 \r\nL 9.28125 54.6875 \r\nL 9.28125 70.21875 \r\nz\r\n\" id=\"DejaVuSans-116\"/>\r\n      </defs>\r\n      <use xlink:href=\"#DejaVuSans-84\"/>\r\n      <use x=\"44.083984\" xlink:href=\"#DejaVuSans-111\"/>\r\n      <use x=\"105.265625\" xlink:href=\"#DejaVuSans-107\"/>\r\n      <use x=\"159.550781\" xlink:href=\"#DejaVuSans-101\"/>\r\n      <use x=\"221.074219\" xlink:href=\"#DejaVuSans-110\"/>\r\n      <use x=\"284.453125\" xlink:href=\"#DejaVuSans-32\"/>\r\n      <use x=\"316.240234\" xlink:href=\"#DejaVuSans-99\"/>\r\n      <use x=\"371.220703\" xlink:href=\"#DejaVuSans-111\"/>\r\n      <use x=\"432.402344\" xlink:href=\"#DejaVuSans-117\"/>\r\n      <use x=\"495.78125\" xlink:href=\"#DejaVuSans-110\"/>\r\n      <use x=\"559.160156\" xlink:href=\"#DejaVuSans-116\"/>\r\n     </g>\r\n    </g>\r\n   </g>\r\n   <g id=\"matplotlib.axis_2\">\r\n    <g id=\"ytick_1\">\r\n     <g id=\"line2d_7\">\r\n      <defs>\r\n       <path d=\"M 0 0 \r\nL -3.5 0 \r\n\" id=\"m1fcf4d9b2d\" style=\"stroke:#000000;stroke-width:0.8;\"/>\r\n      </defs>\r\n      <g>\r\n       <use style=\"stroke:#000000;stroke-width:0.8;\" x=\"36.465625\" xlink:href=\"#m1fcf4d9b2d\" y=\"224.64\"/>\r\n      </g>\r\n     </g>\r\n     <g id=\"text_8\">\r\n      <!-- 0.00 -->\r\n      <g transform=\"translate(7.2 228.439219)scale(0.1 -0.1)\">\r\n       <defs>\r\n        <path d=\"M 10.6875 12.40625 \r\nL 21 12.40625 \r\nL 21 0 \r\nL 10.6875 0 \r\nz\r\n\" id=\"DejaVuSans-46\"/>\r\n       </defs>\r\n       <use xlink:href=\"#DejaVuSans-48\"/>\r\n       <use x=\"63.623047\" xlink:href=\"#DejaVuSans-46\"/>\r\n       <use x=\"95.410156\" xlink:href=\"#DejaVuSans-48\"/>\r\n       <use x=\"159.033203\" xlink:href=\"#DejaVuSans-48\"/>\r\n      </g>\r\n     </g>\r\n    </g>\r\n    <g id=\"ytick_2\">\r\n     <g id=\"line2d_8\">\r\n      <g>\r\n       <use style=\"stroke:#000000;stroke-width:0.8;\" x=\"36.465625\" xlink:href=\"#m1fcf4d9b2d\" y=\"179.201462\"/>\r\n      </g>\r\n     </g>\r\n     <g id=\"text_9\">\r\n      <!-- 0.01 -->\r\n      <g transform=\"translate(7.2 183.000681)scale(0.1 -0.1)\">\r\n       <use xlink:href=\"#DejaVuSans-48\"/>\r\n       <use x=\"63.623047\" xlink:href=\"#DejaVuSans-46\"/>\r\n       <use x=\"95.410156\" xlink:href=\"#DejaVuSans-48\"/>\r\n       <use x=\"159.033203\" xlink:href=\"#DejaVuSans-49\"/>\r\n      </g>\r\n     </g>\r\n    </g>\r\n    <g id=\"ytick_3\">\r\n     <g id=\"line2d_9\">\r\n      <g>\r\n       <use style=\"stroke:#000000;stroke-width:0.8;\" x=\"36.465625\" xlink:href=\"#m1fcf4d9b2d\" y=\"133.762924\"/>\r\n      </g>\r\n     </g>\r\n     <g id=\"text_10\">\r\n      <!-- 0.02 -->\r\n      <g transform=\"translate(7.2 137.562143)scale(0.1 -0.1)\">\r\n       <use xlink:href=\"#DejaVuSans-48\"/>\r\n       <use x=\"63.623047\" xlink:href=\"#DejaVuSans-46\"/>\r\n       <use x=\"95.410156\" xlink:href=\"#DejaVuSans-48\"/>\r\n       <use x=\"159.033203\" xlink:href=\"#DejaVuSans-50\"/>\r\n      </g>\r\n     </g>\r\n    </g>\r\n    <g id=\"ytick_4\">\r\n     <g id=\"line2d_10\">\r\n      <g>\r\n       <use style=\"stroke:#000000;stroke-width:0.8;\" x=\"36.465625\" xlink:href=\"#m1fcf4d9b2d\" y=\"88.324387\"/>\r\n      </g>\r\n     </g>\r\n     <g id=\"text_11\">\r\n      <!-- 0.03 -->\r\n      <g transform=\"translate(7.2 92.123605)scale(0.1 -0.1)\">\r\n       <defs>\r\n        <path d=\"M 40.578125 39.3125 \r\nQ 47.65625 37.796875 51.625 33 \r\nQ 55.609375 28.21875 55.609375 21.1875 \r\nQ 55.609375 10.40625 48.1875 4.484375 \r\nQ 40.765625 -1.421875 27.09375 -1.421875 \r\nQ 22.515625 -1.421875 17.65625 -0.515625 \r\nQ 12.796875 0.390625 7.625 2.203125 \r\nL 7.625 11.71875 \r\nQ 11.71875 9.328125 16.59375 8.109375 \r\nQ 21.484375 6.890625 26.8125 6.890625 \r\nQ 36.078125 6.890625 40.9375 10.546875 \r\nQ 45.796875 14.203125 45.796875 21.1875 \r\nQ 45.796875 27.640625 41.28125 31.265625 \r\nQ 36.765625 34.90625 28.71875 34.90625 \r\nL 20.21875 34.90625 \r\nL 20.21875 43.015625 \r\nL 29.109375 43.015625 \r\nQ 36.375 43.015625 40.234375 45.921875 \r\nQ 44.09375 48.828125 44.09375 54.296875 \r\nQ 44.09375 59.90625 40.109375 62.90625 \r\nQ 36.140625 65.921875 28.71875 65.921875 \r\nQ 24.65625 65.921875 20.015625 65.03125 \r\nQ 15.375 64.15625 9.8125 62.3125 \r\nL 9.8125 71.09375 \r\nQ 15.4375 72.65625 20.34375 73.4375 \r\nQ 25.25 74.21875 29.59375 74.21875 \r\nQ 40.828125 74.21875 47.359375 69.109375 \r\nQ 53.90625 64.015625 53.90625 55.328125 \r\nQ 53.90625 49.265625 50.4375 45.09375 \r\nQ 46.96875 40.921875 40.578125 39.3125 \r\nz\r\n\" id=\"DejaVuSans-51\"/>\r\n       </defs>\r\n       <use xlink:href=\"#DejaVuSans-48\"/>\r\n       <use x=\"63.623047\" xlink:href=\"#DejaVuSans-46\"/>\r\n       <use x=\"95.410156\" xlink:href=\"#DejaVuSans-48\"/>\r\n       <use x=\"159.033203\" xlink:href=\"#DejaVuSans-51\"/>\r\n      </g>\r\n     </g>\r\n    </g>\r\n    <g id=\"ytick_5\">\r\n     <g id=\"line2d_11\">\r\n      <g>\r\n       <use style=\"stroke:#000000;stroke-width:0.8;\" x=\"36.465625\" xlink:href=\"#m1fcf4d9b2d\" y=\"42.885849\"/>\r\n      </g>\r\n     </g>\r\n     <g id=\"text_12\">\r\n      <!-- 0.04 -->\r\n      <g transform=\"translate(7.2 46.685068)scale(0.1 -0.1)\">\r\n       <use xlink:href=\"#DejaVuSans-48\"/>\r\n       <use x=\"63.623047\" xlink:href=\"#DejaVuSans-46\"/>\r\n       <use x=\"95.410156\" xlink:href=\"#DejaVuSans-48\"/>\r\n       <use x=\"159.033203\" xlink:href=\"#DejaVuSans-52\"/>\r\n      </g>\r\n     </g>\r\n    </g>\r\n   </g>\r\n   <g id=\"line2d_12\">\r\n    <path clip-path=\"url(#p399d8d2806)\" d=\"M 32.350393 224.608105 \r\nL 34.868438 224.522518 \r\nL 37.386483 224.269207 \r\nL 39.904528 223.628029 \r\nL 42.422573 222.225865 \r\nL 44.940619 219.545362 \r\nL 47.458664 215.010282 \r\nL 49.976709 208.140267 \r\nL 52.494754 198.728117 \r\nL 55.012799 186.967659 \r\nL 57.530844 173.46462 \r\nL 60.048889 159.108801 \r\nL 62.566934 144.855102 \r\nL 65.084979 131.509083 \r\nL 67.603024 119.609717 \r\nL 70.121069 109.435449 \r\nL 72.639115 101.065572 \r\nL 75.15716 94.418072 \r\nL 77.675205 89.280294 \r\nL 80.19325 85.382165 \r\nL 82.711295 82.461516 \r\nL 85.22934 80.238914 \r\nL 87.747385 78.357737 \r\nL 90.26543 76.431109 \r\nL 92.783475 74.212911 \r\nL 95.30152 71.748978 \r\nL 97.819565 69.364874 \r\nL 100.33761 67.476303 \r\nL 102.855656 66.34949 \r\nL 105.373701 65.999396 \r\nL 107.891746 66.301221 \r\nL 110.409791 67.164933 \r\nL 112.927836 68.564997 \r\nL 115.445881 70.437423 \r\nL 117.963926 72.637774 \r\nL 120.481971 75.03551 \r\nL 123.000016 77.622839 \r\nL 125.518061 80.535333 \r\nL 128.036106 84.006872 \r\nL 130.554152 88.284774 \r\nL 133.072197 93.491917 \r\nL 135.590242 99.505401 \r\nL 138.108287 105.994866 \r\nL 140.626332 112.622363 \r\nL 143.144377 119.201407 \r\nL 145.662422 125.664682 \r\nL 148.180467 131.938738 \r\nL 150.698512 137.903686 \r\nL 153.216557 143.449256 \r\nL 155.734602 148.516765 \r\nL 158.252648 153.087195 \r\nL 160.770693 157.171333 \r\nL 163.288738 160.834759 \r\nL 165.806783 164.21102 \r\nL 168.324828 167.446428 \r\nL 170.842873 170.607476 \r\nL 173.360918 173.659051 \r\nL 175.878963 176.564175 \r\nL 178.397008 179.413567 \r\nL 180.915053 182.449411 \r\nL 183.433098 185.950253 \r\nL 185.951144 190.055251 \r\nL 188.469189 194.636703 \r\nL 190.987234 199.31012 \r\nL 193.505279 203.606288 \r\nL 196.023324 207.2097 \r\nL 198.541369 210.089446 \r\nL 201.059414 212.424566 \r\nL 203.577459 214.399698 \r\nL 206.095504 216.043717 \r\nL 208.613549 217.220599 \r\nL 211.131594 217.74469 \r\nL 213.64964 217.521594 \r\nL 216.167685 216.649517 \r\nL 218.68573 215.464502 \r\nL 221.203775 214.493985 \r\nL 223.72182 214.267634 \r\nL 226.239865 215.046422 \r\nL 228.75791 216.675437 \r\nL 231.275955 218.699246 \r\nL 233.794 220.632669 \r\nL 236.312045 222.166853 \r\nL 238.83009 223.213535 \r\nL 241.348135 223.83991 \r\nL 243.866181 224.177384 \r\nL 246.384226 224.351554 \r\nL 248.902271 224.447824 \r\nL 251.420316 224.507771 \r\nL 253.938361 224.543098 \r\nL 256.456406 224.554513 \r\nL 258.974451 224.54631 \r\nL 261.492496 224.531118 \r\nL 264.010541 224.52446 \r\nL 266.528586 224.535115 \r\nL 269.046631 224.560256 \r\nL 271.564677 224.58954 \r\nL 274.082722 224.613474 \r\nL 276.600767 224.628422 \r\nL 279.118812 224.635805 \r\nL 281.636857 224.638738 \r\n\" style=\"fill:none;stroke:#1f77b4;stroke-linecap:square;stroke-width:1.5;\"/>\r\n   </g>\r\n   <g id=\"patch_45\">\r\n    <path d=\"M 36.465625 224.64 \r\nL 36.465625 7.2 \r\n\" style=\"fill:none;stroke:#000000;stroke-linecap:square;stroke-linejoin:miter;stroke-width:0.8;\"/>\r\n   </g>\r\n   <g id=\"patch_46\">\r\n    <path d=\"M 371.265625 224.64 \r\nL 371.265625 7.2 \r\n\" style=\"fill:none;stroke:#000000;stroke-linecap:square;stroke-linejoin:miter;stroke-width:0.8;\"/>\r\n   </g>\r\n   <g id=\"patch_47\">\r\n    <path d=\"M 36.465625 224.64 \r\nL 371.265625 224.64 \r\n\" style=\"fill:none;stroke:#000000;stroke-linecap:square;stroke-linejoin:miter;stroke-width:0.8;\"/>\r\n   </g>\r\n   <g id=\"patch_48\">\r\n    <path d=\"M 36.465625 7.2 \r\nL 371.265625 7.2 \r\n\" style=\"fill:none;stroke:#000000;stroke-linecap:square;stroke-linejoin:miter;stroke-width:0.8;\"/>\r\n   </g>\r\n  </g>\r\n </g>\r\n <defs>\r\n  <clipPath id=\"p399d8d2806\">\r\n   <rect height=\"217.44\" width=\"334.8\" x=\"36.465625\" y=\"7.2\"/>\r\n  </clipPath>\r\n </defs>\r\n</svg>\r\n",
      "image/png": "[encoded data removed]"
     },
     "metadata": {
      "needs_background": "light"
     }
    }
   ],
   "source": [
    "token_lens = []\n",
    "\n",
    "for txt in df.OutputText:\n",
    "  tokens = tokenize_input(txt)\n",
    "  token_lens.append(len(tokens))\n",
    "\n",
    "sns.distplot(token_lens)\n",
    "plt.xlim([0, 100]);\n",
    "plt.xlabel('Token count');"
   ]
  },
  {
   "cell_type": "code",
   "execution_count": 8,
   "metadata": {},
   "outputs": [],
   "source": [
    "inputText = Field(init_token=\"<sos>\", eos_token=\"<eos>\", tokenize=tokenize_input, lower=True)\n",
    "outputText = Field(init_token=\"<sos>\", eos_token=\"<eos>\", tokenize=tokenize_output, lower=True)"
   ]
  },
  {
   "cell_type": "code",
   "execution_count": 9,
   "metadata": {},
   "outputs": [],
   "source": [
    "fields = {\"InputText\": (\"inputText\", inputText), \"OutputText\": (\"outputText\", outputText)}"
   ]
  },
  {
   "cell_type": "code",
   "execution_count": 10,
   "metadata": {},
   "outputs": [],
   "source": [
    "train_data, valid_data = TabularDataset.splits(\n",
    "    path=\"data\", train=\"train.json\", test=\"valid.json\", format=\"json\", fields=fields\n",
    ")\n",
    "\n",
    "test_data = TabularDataset.splits(\n",
    "    path=\"data\", test=\"test.json\", format=\"json\", fields=fields\n",
    ")"
   ]
  },
  {
   "cell_type": "code",
   "execution_count": 11,
   "metadata": {},
   "outputs": [],
   "source": [
    "inputText.build_vocab(train_data, max_size=100000, min_freq=2)\n",
    "outputText.build_vocab(train_data, max_size=100000, min_freq=2)"
   ]
  },
  {
   "cell_type": "code",
   "execution_count": 12,
   "metadata": {},
   "outputs": [],
   "source": [
    "class Transformer(nn.Module):\n",
    "    def __init__(\n",
    "        self,\n",
    "        embedding_size,\n",
    "        src_vocab_size,\n",
    "        trg_vocab_size,\n",
    "        src_pad_idx,\n",
    "        num_heads,\n",
    "        num_encoder_layers,\n",
    "        num_decoder_layers,\n",
    "        forward_expansion,\n",
    "        dropout,\n",
    "        max_len,\n",
    "        device,\n",
    "    ):\n",
    "        super(Transformer, self).__init__()\n",
    "        self.src_word_embedding = nn.Embedding(src_vocab_size, embedding_size)\n",
    "        self.src_position_embedding = nn.Embedding(max_len, embedding_size)\n",
    "        self.trg_word_embedding = nn.Embedding(trg_vocab_size, embedding_size)\n",
    "        self.trg_position_embedding = nn.Embedding(max_len, embedding_size)\n",
    "\n",
    "        self.device = device\n",
    "        self.transformer = nn.Transformer(\n",
    "            embedding_size,\n",
    "            num_heads,\n",
    "            num_encoder_layers,\n",
    "            num_decoder_layers,\n",
    "            forward_expansion,\n",
    "            dropout,\n",
    "        )\n",
    "        self.fc_out = nn.Linear(embedding_size, trg_vocab_size)\n",
    "        self.dropout = nn.Dropout(dropout)\n",
    "        self.src_pad_idx = src_pad_idx\n",
    "\n",
    "    def make_src_mask(self, inputText):\n",
    "        src_mask = inputText.transpose(0, 1) == self.src_pad_idx\n",
    "\n",
    "        # (N, src_len)\n",
    "        return src_mask.to(self.device)\n",
    "\n",
    "    def forward(self, inputText, outputText):\n",
    "        src_seq_length, N = inputText.shape\n",
    "        trg_seq_length, N = outputText.shape\n",
    "\n",
    "        src_positions = (\n",
    "            torch.arange(0, src_seq_length)\n",
    "            .unsqueeze(1)\n",
    "            .expand(src_seq_length, N)\n",
    "            .to(self.device)\n",
    "        )\n",
    "\n",
    "        trg_positions = (\n",
    "            torch.arange(0, trg_seq_length)\n",
    "            .unsqueeze(1)\n",
    "            .expand(trg_seq_length, N)\n",
    "            .to(self.device)\n",
    "        )\n",
    "\n",
    "        embed_src = self.dropout(\n",
    "            (self.src_word_embedding(inputText) + self.src_position_embedding(src_positions))\n",
    "        )\n",
    "        embed_trg = self.dropout(\n",
    "            (self.trg_word_embedding(outputText) + self.trg_position_embedding(trg_positions))\n",
    "        )\n",
    "\n",
    "        src_padding_mask = self.make_src_mask(inputText)\n",
    "        trg_mask = self.transformer.generate_square_subsequent_mask(trg_seq_length).to(\n",
    "            self.device\n",
    "        )\n",
    "\n",
    "        out = self.transformer(\n",
    "            embed_src,\n",
    "            embed_trg,\n",
    "            src_key_padding_mask=src_padding_mask,\n",
    "            tgt_mask=trg_mask,\n",
    "        )\n",
    "        out = self.fc_out(out)\n",
    "        return out"
   ]
  },
  {
   "cell_type": "code",
   "execution_count": 13,
   "metadata": {},
   "outputs": [],
   "source": [
    "# We're ready to define everything we need for training our Seq2Seq model\n",
    "device = torch.device(\"cuda\" if torch.cuda.is_available() else \"cpu\")\n",
    "\n",
    "load_model = True\n",
    "save_model = True\n",
    "\n",
    "# Training hyperparameters\n",
    "num_epochs = 1000\n",
    "learning_rate = 3e-4\n",
    "batch_size = 32\n",
    "\n",
    "# Model hyperparameters\n",
    "src_vocab_size = len(inputText.vocab)\n",
    "trg_vocab_size = len(outputText.vocab)\n",
    "embedding_size = 512    # default: 512\n",
    "num_heads = 8\n",
    "num_encoder_layers = 3  # 6 in paper\n",
    "num_decoder_layers = 3\n",
    "dropout = 0.10\n",
    "max_len = 100\n",
    "forward_expansion = 4\n",
    "src_pad_idx = inputText.vocab.stoi[\"<pad>\"]\n",
    "\n",
    "# Tensorboard to get nice loss plot\n",
    "writer = SummaryWriter(\"runs/loss_plot\")\n",
    "step = 0"
   ]
  },
  {
   "cell_type": "code",
   "execution_count": 14,
   "metadata": {},
   "outputs": [],
   "source": [
    "train_iterator, valid_iterator, test_iterator = BucketIterator.splits(\n",
    "    (train_data, valid_data, test_data),\n",
    "    batch_size=batch_size,\n",
    "    sort_within_batch=True,\n",
    "    sort_key=lambda x: len(x.inputText),\n",
    "    device=device,\n",
    ")"
   ]
  },
  {
   "cell_type": "code",
   "execution_count": 15,
   "metadata": {},
   "outputs": [],
   "source": [
    "model = Transformer(\n",
    "    embedding_size,\n",
    "    src_vocab_size,\n",
    "    trg_vocab_size,\n",
    "    src_pad_idx,\n",
    "    num_heads,\n",
    "    num_encoder_layers,\n",
    "    num_decoder_layers,\n",
    "    forward_expansion,\n",
    "    dropout,\n",
    "    max_len,\n",
    "    device,\n",
    ").to(device)"
   ]
  },
  {
   "cell_type": "code",
   "execution_count": 16,
   "metadata": {},
   "outputs": [],
   "source": [
    "optimizer = optim.Adam(model.parameters(), lr=learning_rate)"
   ]
  },
  {
   "cell_type": "code",
   "execution_count": 17,
   "metadata": {},
   "outputs": [],
   "source": [
    "scheduler = torch.optim.lr_scheduler.ReduceLROnPlateau(\n",
    "    optimizer, factor=0.1, patience=10, verbose=True\n",
    ")"
   ]
  },
  {
   "cell_type": "code",
   "execution_count": 18,
   "metadata": {},
   "outputs": [],
   "source": [
    "pad_idx = inputText.vocab.stoi[\"<pad>\"]\n",
    "criterion = nn.CrossEntropyLoss(ignore_index = pad_idx)"
   ]
  },
  {
   "cell_type": "code",
   "execution_count": 19,
   "metadata": {
    "tags": []
   },
   "outputs": [],
   "source": [
    "if load_model:\n",
    "    load_checkpoint(torch.load(\"my_checkpoint.pth.tar\"), model, optimizer)\n",
    "\n",
    "sentence = \"The boy is going to school and he is carrying a big bag.\""
   ]
  },
  {
   "cell_type": "code",
   "execution_count": null,
   "metadata": {},
   "outputs": [],
   "source": [
    "src = \"I was cutting the wood with a saw.\"\n",
    "\n",
    "prediction = process_sentence(model, src, inputText, outputText, device)\n",
    "prediction = prediction[:-1]  # remove <eos> token\n",
    "\n",
    "print(prediction)"
   ]
  },
  {
   "cell_type": "code",
   "execution_count": 20,
   "metadata": {
    "tags": []
   },
   "outputs": [
    {
     "output_type": "stream",
     "name": "stdout",
     "text": "[Epoch 0 / 1000]\n=> Saving checkpoint\nPredicted sentence: \n ['wheat', 'wonderful', 'barry', 'monroe', 'wonderful', 'express', 'wonderful', 'tet', 'wonderful', 'auditor', 'express', 'express', 'auditor', 'express', 'solo', 'reading', 'liver', 'express', 'wonderful', 'auditor', 'express', 'calming', 'solo', 'reading', 'auditor', 'auditor', 'express', 'good', 'monroe', 'wonderful', 'auditor', 'wonderful', 'profession', 'priceless', 'express', 'good', 'solo', 'express', 'wonderful', 'auditor', 'express', 'wonderful', 'auditor', 'wonderful', 'auditor', 'auditor', 'express', 'wonderful', 'auditor', 'express']\n[Epoch 1 / 1000]\n=> Saving checkpoint\nPredicted sentence: \n ['the', 'say', 'be', 'go', 'to', 'school', 'and', 'he', 'be', 'not', 'a', '$', 'a', '.', '<eos>']\n[Epoch 2 / 1000]\n=> Saving checkpoint\nPredicted sentence: \n ['the', 'boy', 'be', 'go', 'to', 'school', 'and', 'he', 'be', 'not', 'a', 'big', 'point', '.', '<eos>']\n[Epoch 3 / 1000]\n=> Saving checkpoint\nPredicted sentence: \n ['the', 'boy', 'be', 'go', 'to', 'school', 'and', 'he', 'be', 'carry', 'a', 'big', 'point', '.', '<eos>']\n[Epoch 4 / 1000]\n=> Saving checkpoint\nPredicted sentence: \n ['the', 'boy', 'be', 'go', 'to', 'school', 'and', 'he', 'be', 'carry', 'a', 'big', 'bag', '.', '<eos>']\n[Epoch 5 / 1000]\n=> Saving checkpoint\nPredicted sentence: \n ['the', 'boy', 'be', 'go', 'to', 'school', 'and', 'he', 'be', 'carry', 'a', 'big', 'bag', '.', '<eos>']\n[Epoch 6 / 1000]\n=> Saving checkpoint\nPredicted sentence: \n ['the', 'boy', 'be', 'go', 'to', 'school', 'and', 'he', 'be', 'carry', 'a', 'big', 'bag', '.', '<eos>']\n[Epoch 7 / 1000]\n=> Saving checkpoint\nPredicted sentence: \n ['the', 'boy', 'be', 'go', 'to', 'school', 'and', 'he', 'be', 'carry', 'a', 'big', 'bag', '.', '<eos>']\n[Epoch 8 / 1000]\n=> Saving checkpoint\nPredicted sentence: \n ['the', 'boy', 'be', 'go', 'to', 'school', 'and', 'he', 'be', 'carry', 'a', 'big', 'bag', '.', '<eos>']\n[Epoch 9 / 1000]\n=> Saving checkpoint\nPredicted sentence: \n ['the', 'boy', 'be', 'go', 'to', 'school', 'and', 'he', 'be', 'carry', 'a', 'big', 'bag', '.', '<eos>']\n[Epoch 10 / 1000]\n=> Saving checkpoint\nPredicted sentence: \n ['the', 'boy', 'be', 'go', 'to', 'school', 'and', 'he', 'be', 'carry', 'a', 'big', 'bag', '.', '<eos>']\n[Epoch 11 / 1000]\n=> Saving checkpoint\nPredicted sentence: \n ['the', 'boy', 'be', 'go', 'to', 'school', 'and', 'he', 'be', 'carry', 'a', 'big', 'bag', '.', '<eos>']\n[Epoch 12 / 1000]\n=> Saving checkpoint\nPredicted sentence: \n ['the', 'boy', 'be', 'go', 'to', 'school', 'and', 'he', 'be', 'carry', 'a', 'big', 'bag', '.', '<eos>']\n[Epoch 13 / 1000]\n=> Saving checkpoint\nPredicted sentence: \n ['the', 'boy', 'be', 'go', 'to', 'school', 'and', 'he', 'be', 'carry', 'a', 'big', 'bag', '.', '<eos>']\n[Epoch 14 / 1000]\n=> Saving checkpoint\nPredicted sentence: \n ['the', 'boy', 'be', 'go', 'to', 'school', 'and', 'he', 'be', 'carry', 'a', 'big', 'bag', '.', '<eos>']\n[Epoch 15 / 1000]\n=> Saving checkpoint\nPredicted sentence: \n ['the', 'boy', 'be', 'go', 'to', 'school', 'and', 'he', 'be', 'carry', 'a', 'big', 'bag', '.', '<eos>']\n[Epoch 16 / 1000]\n=> Saving checkpoint\nPredicted sentence: \n ['the', 'boy', 'be', 'go', 'to', 'school', 'and', 'he', 'be', 'carry', 'a', 'big', 'bag', '.', '<eos>']\n[Epoch 17 / 1000]\n=> Saving checkpoint\nPredicted sentence: \n ['the', 'boy', 'be', 'go', 'to', 'school', 'and', 'he', 'be', 'carry', 'a', 'big', 'bag', '.', '<eos>']\n[Epoch 18 / 1000]\n=> Saving checkpoint\nPredicted sentence: \n ['the', 'boy', 'be', 'go', 'to', 'school', 'and', 'he', 'be', 'carry', 'a', 'big', 'bag', '.', '<eos>']\n[Epoch 19 / 1000]\n=> Saving checkpoint\nPredicted sentence: \n ['the', 'boy', 'be', 'go', 'to', 'school', 'and', 'he', 'be', 'carry', 'a', 'big', 'bag', '.', '<eos>']\n[Epoch 20 / 1000]\n=> Saving checkpoint\nPredicted sentence: \n ['the', 'boy', 'be', 'go', 'to', 'school', 'and', 'he', 'be', 'carry', 'a', 'big', 'bag', '.', '<eos>']\n[Epoch 21 / 1000]\n=> Saving checkpoint\nPredicted sentence: \n ['the', 'boy', 'be', 'go', 'to', 'school', 'and', 'he', 'be', 'carry', 'a', 'big', 'bag', '.', '<eos>']\n[Epoch 22 / 1000]\n=> Saving checkpoint\nPredicted sentence: \n ['the', 'boy', 'be', 'go', 'to', 'school', 'and', 'he', 'be', 'carry', 'a', 'big', 'bag', '.', '<eos>']\n[Epoch 23 / 1000]\n=> Saving checkpoint\nPredicted sentence: \n ['the', 'boy', 'be', 'go', 'to', 'school', 'and', 'he', 'be', 'carry', 'a', 'big', 'bag', '.', '<eos>']\n[Epoch 24 / 1000]\n=> Saving checkpoint\nPredicted sentence: \n ['the', 'boy', 'be', 'go', 'to', 'school', 'and', 'he', 'be', 'carry', 'a', 'big', 'bag', '.', '<eos>']\n[Epoch 25 / 1000]\n=> Saving checkpoint\nPredicted sentence: \n ['the', 'boy', 'be', 'go', 'to', 'school', 'and', 'he', 'be', 'carry', 'a', 'big', 'bag', '.', '<eos>']\n[Epoch 26 / 1000]\n=> Saving checkpoint\nPredicted sentence: \n ['the', 'boy', 'be', 'go', 'to', 'school', 'and', 'he', 'be', 'carry', 'a', 'big', 'bag', '.', '<eos>']\n[Epoch 27 / 1000]\n=> Saving checkpoint\nPredicted sentence: \n ['the', 'boy', 'be', 'go', 'to', 'school', 'and', 'he', 'be', 'carry', 'a', 'big', 'bag', '.', '<eos>']\n[Epoch 28 / 1000]\n=> Saving checkpoint\nPredicted sentence: \n ['the', 'boy', 'be', 'go', 'to', 'school', 'and', 'he', 'be', 'carry', 'a', 'big', 'bag', '.', '<eos>']\n[Epoch 29 / 1000]\n=> Saving checkpoint\nPredicted sentence: \n ['the', 'boy', 'be', 'go', 'to', 'school', 'and', 'he', 'be', 'carry', 'a', 'big', 'bag', '.', '<eos>']\n[Epoch 30 / 1000]\n=> Saving checkpoint\nPredicted sentence: \n ['the', 'boy', 'be', 'go', 'to', 'school', 'and', 'he', 'be', 'carry', 'a', 'big', 'bag', '.', '<eos>']\n[Epoch 31 / 1000]\n=> Saving checkpoint\nPredicted sentence: \n ['the', 'boy', 'be', 'go', 'to', 'school', 'and', 'he', 'be', 'carry', 'a', 'big', 'bag', '.', '<eos>']\n[Epoch 32 / 1000]\n=> Saving checkpoint\nPredicted sentence: \n ['the', 'boy', 'be', 'go', 'to', 'school', 'and', 'he', 'be', 'carry', 'a', 'big', 'bag', '.', '<eos>']\n[Epoch 33 / 1000]\n=> Saving checkpoint\nPredicted sentence: \n ['the', 'boy', 'be', 'go', 'to', 'school', 'and', 'he', 'be', 'carry', 'a', 'big', 'bag', '.', '<eos>']\n[Epoch 34 / 1000]\n=> Saving checkpoint\nPredicted sentence: \n ['the', 'boy', 'be', 'go', 'to', 'school', 'and', 'he', 'be', 'carry', 'a', 'big', 'bag', '.', '<eos>']\n[Epoch 35 / 1000]\n=> Saving checkpoint\nPredicted sentence: \n ['the', 'boy', 'be', 'go', 'to', 'school', 'and', 'he', 'be', 'carry', 'a', 'big', 'bag', '.', '<eos>']\n[Epoch 36 / 1000]\n=> Saving checkpoint\nPredicted sentence: \n ['the', 'boy', 'be', 'go', 'to', 'school', 'and', 'he', 'be', 'carry', 'a', 'big', 'bag', '.', '<eos>']\n[Epoch 37 / 1000]\n=> Saving checkpoint\nPredicted sentence: \n ['the', 'boy', 'be', 'go', 'to', 'school', 'and', 'he', 'be', 'carry', 'a', 'big', 'bag', '.', '<eos>']\n[Epoch 38 / 1000]\n=> Saving checkpoint\nPredicted sentence: \n ['the', 'boy', 'be', 'go', 'to', 'school', 'and', 'he', 'be', 'carry', 'a', 'big', 'bag', '.', '<eos>']\n[Epoch 39 / 1000]\n=> Saving checkpoint\nPredicted sentence: \n ['the', 'boy', 'be', 'go', 'to', 'school', 'and', 'he', 'be', 'carry', 'a', 'big', 'bag', '.', '<eos>']\n[Epoch 40 / 1000]\n=> Saving checkpoint\nPredicted sentence: \n ['the', 'boy', 'be', 'go', 'to', 'school', 'and', 'he', 'be', 'carry', 'a', 'big', 'bag', '.', '<eos>']\n[Epoch 41 / 1000]\n=> Saving checkpoint\nPredicted sentence: \n ['the', 'boy', 'be', 'go', 'to', 'school', 'and', 'he', 'be', 'carry', 'a', 'big', 'bag', '.', '<eos>']\n[Epoch 42 / 1000]\n=> Saving checkpoint\nPredicted sentence: \n ['the', 'boy', 'be', 'go', 'to', 'school', 'and', 'he', 'be', 'carry', 'a', 'big', 'bag', '.', '<eos>']\nEpoch    43: reducing learning rate of group 0 to 3.0000e-05.\n[Epoch 43 / 1000]\n=> Saving checkpoint\nPredicted sentence: \n ['the', 'boy', 'be', 'go', 'to', 'school', 'and', 'he', 'be', 'carry', 'a', 'big', 'bag', '.', '<eos>']\n[Epoch 44 / 1000]\n=> Saving checkpoint\nPredicted sentence: \n ['the', 'boy', 'be', 'go', 'to', 'school', 'and', 'he', 'be', 'carry', 'a', 'big', 'bag', '.', '<eos>']\n[Epoch 45 / 1000]\n=> Saving checkpoint\nPredicted sentence: \n ['the', 'boy', 'be', 'go', 'to', 'school', 'and', 'he', 'be', 'carry', 'a', 'big', 'bag', '.', '<eos>']\n[Epoch 46 / 1000]\n=> Saving checkpoint\nPredicted sentence: \n ['the', 'boy', 'be', 'go', 'to', 'school', 'and', 'he', 'be', 'carry', 'a', 'big', 'bag', '.', '<eos>']\n[Epoch 47 / 1000]\n=> Saving checkpoint\nPredicted sentence: \n ['the', 'boy', 'be', 'go', 'to', 'school', 'and', 'he', 'be', 'carry', 'a', 'big', 'bag', '.', '<eos>']\n[Epoch 48 / 1000]\n=> Saving checkpoint\nPredicted sentence: \n ['the', 'boy', 'be', 'go', 'to', 'school', 'and', 'he', 'be', 'carry', 'a', 'big', 'bag', '.', '<eos>']\n[Epoch 49 / 1000]\n=> Saving checkpoint\nPredicted sentence: \n ['the', 'boy', 'be', 'go', 'to', 'school', 'and', 'he', 'be', 'carry', 'a', 'big', 'bag', '.', '<eos>']\n[Epoch 50 / 1000]\n=> Saving checkpoint\nPredicted sentence: \n ['the', 'boy', 'be', 'go', 'to', 'school', 'and', 'he', 'be', 'carry', 'a', 'big', 'bag', '.', '<eos>']\n[Epoch 51 / 1000]\n=> Saving checkpoint\nPredicted sentence: \n ['the', 'boy', 'be', 'go', 'to', 'school', 'and', 'he', 'be', 'carry', 'a', 'big', 'bag', '.', '<eos>']\n[Epoch 52 / 1000]\n=> Saving checkpoint\nPredicted sentence: \n ['the', 'boy', 'be', 'go', 'to', 'school', 'and', 'he', 'be', 'carry', 'a', 'big', 'bag', '.', '<eos>']\n[Epoch 53 / 1000]\n=> Saving checkpoint\nPredicted sentence: \n ['the', 'boy', 'be', 'go', 'to', 'school', 'and', 'he', 'be', 'carry', 'a', 'big', 'bag', '.', '<eos>']\n[Epoch 54 / 1000]\n=> Saving checkpoint\nPredicted sentence: \n ['the', 'boy', 'be', 'go', 'to', 'school', 'and', 'he', 'be', 'carry', 'a', 'big', 'bag', '.', '<eos>']\n[Epoch 55 / 1000]\n=> Saving checkpoint\nPredicted sentence: \n ['the', 'boy', 'be', 'go', 'to', 'school', 'and', 'he', 'be', 'carry', 'a', 'big', 'bag', '.', '<eos>']\n[Epoch 56 / 1000]\n=> Saving checkpoint\nPredicted sentence: \n ['the', 'boy', 'be', 'go', 'to', 'school', 'and', 'he', 'be', 'carry', 'a', 'big', 'bag', '.', '<eos>']\n[Epoch 57 / 1000]\n=> Saving checkpoint\nPredicted sentence: \n ['the', 'boy', 'be', 'go', 'to', 'school', 'and', 'he', 'be', 'carry', 'a', 'big', 'bag', '.', '<eos>']\n[Epoch 58 / 1000]\n=> Saving checkpoint\nPredicted sentence: \n ['the', 'boy', 'be', 'go', 'to', 'school', 'and', 'he', 'be', 'carry', 'a', 'big', 'bag', '.', '<eos>']\n[Epoch 59 / 1000]\n=> Saving checkpoint\nPredicted sentence: \n ['the', 'boy', 'be', 'go', 'to', 'school', 'and', 'he', 'be', 'carry', 'a', 'big', 'bag', '.', '<eos>']\n[Epoch 60 / 1000]\n=> Saving checkpoint\nPredicted sentence: \n ['the', 'boy', 'be', 'go', 'to', 'school', 'and', 'he', 'be', 'carry', 'a', 'big', 'bag', '.', '<eos>']\n[Epoch 61 / 1000]\n=> Saving checkpoint\nPredicted sentence: \n ['the', 'boy', 'be', 'go', 'to', 'school', 'and', 'he', 'be', 'carry', 'a', 'big', 'bag', '.', '<eos>']\n[Epoch 62 / 1000]\n=> Saving checkpoint\nPredicted sentence: \n ['the', 'boy', 'be', 'go', 'to', 'school', 'and', 'he', 'be', 'carry', 'a', 'big', 'bag', '.', '<eos>']\n[Epoch 63 / 1000]\n=> Saving checkpoint\nPredicted sentence: \n ['the', 'boy', 'be', 'go', 'to', 'school', 'and', 'he', 'be', 'carry', 'a', 'big', 'bag', '.', '<eos>']\n[Epoch 64 / 1000]\n=> Saving checkpoint\nPredicted sentence: \n ['the', 'boy', 'be', 'go', 'to', 'school', 'and', 'he', 'be', 'carry', 'a', 'big', 'bag', '.', '<eos>']\n[Epoch 65 / 1000]\n=> Saving checkpoint\nPredicted sentence: \n ['the', 'boy', 'be', 'go', 'to', 'school', 'and', 'he', 'be', 'carry', 'a', 'big', 'bag', '.', '<eos>']\n[Epoch 66 / 1000]\n=> Saving checkpoint\nPredicted sentence: \n ['the', 'boy', 'be', 'go', 'to', 'school', 'and', 'he', 'be', 'carry', 'a', 'big', 'bag', '.', '<eos>']\n[Epoch 67 / 1000]\n=> Saving checkpoint\nPredicted sentence: \n ['the', 'boy', 'be', 'go', 'to', 'school', 'and', 'he', 'be', 'carry', 'a', 'big', 'bag', '.', '<eos>']\n[Epoch 68 / 1000]\n=> Saving checkpoint\nPredicted sentence: \n ['the', 'boy', 'be', 'go', 'to', 'school', 'and', 'he', 'be', 'carry', 'a', 'big', 'bag', '.', '<eos>']\n[Epoch 69 / 1000]\n=> Saving checkpoint\nPredicted sentence: \n ['the', 'boy', 'be', 'go', 'to', 'school', 'and', 'he', 'be', 'carry', 'a', 'big', 'bag', '.', '<eos>']\n[Epoch 70 / 1000]\n=> Saving checkpoint\nPredicted sentence: \n ['the', 'boy', 'be', 'go', 'to', 'school', 'and', 'he', 'be', 'carry', 'a', 'big', 'bag', '.', '<eos>']\n[Epoch 71 / 1000]\n=> Saving checkpoint\nPredicted sentence: \n ['the', 'boy', 'be', 'go', 'to', 'school', 'and', 'he', 'be', 'carry', 'a', 'big', 'bag', '.', '<eos>']\n[Epoch 72 / 1000]\n=> Saving checkpoint\nPredicted sentence: \n ['the', 'boy', 'be', 'go', 'to', 'school', 'and', 'he', 'be', 'carry', 'a', 'big', 'bag', '.', '<eos>']\n[Epoch 73 / 1000]\n=> Saving checkpoint\nPredicted sentence: \n ['the', 'boy', 'be', 'go', 'to', 'school', 'and', 'he', 'be', 'carry', 'a', 'big', 'bag', '.', '<eos>']\n[Epoch 74 / 1000]\n=> Saving checkpoint\nPredicted sentence: \n ['the', 'boy', 'be', 'go', 'to', 'school', 'and', 'he', 'be', 'carry', 'a', 'big', 'bag', '.', '<eos>']\n[Epoch 75 / 1000]\n=> Saving checkpoint\nPredicted sentence: \n ['the', 'boy', 'be', 'go', 'to', 'school', 'and', 'he', 'be', 'carry', 'a', 'big', 'bag', '.', '<eos>']\n[Epoch 76 / 1000]\n=> Saving checkpoint\nPredicted sentence: \n ['the', 'boy', 'be', 'go', 'to', 'school', 'and', 'he', 'be', 'carry', 'a', 'big', 'bag', '.', '<eos>']\n[Epoch 77 / 1000]\n=> Saving checkpoint\nPredicted sentence: \n ['the', 'boy', 'be', 'go', 'to', 'school', 'and', 'he', 'be', 'carry', 'a', 'big', 'bag', '.', '<eos>']\n[Epoch 78 / 1000]\n=> Saving checkpoint\nPredicted sentence: \n ['the', 'boy', 'be', 'go', 'to', 'school', 'and', 'he', 'be', 'carry', 'a', 'big', 'bag', '.', '<eos>']\n[Epoch 79 / 1000]\n=> Saving checkpoint\nPredicted sentence: \n ['the', 'boy', 'be', 'go', 'to', 'school', 'and', 'he', 'be', 'carry', 'a', 'big', 'bag', '.', '<eos>']\n[Epoch 80 / 1000]\n=> Saving checkpoint\nPredicted sentence: \n ['the', 'boy', 'be', 'go', 'to', 'school', 'and', 'he', 'be', 'carry', 'a', 'big', 'bag', '.', '<eos>']\n[Epoch 81 / 1000]\n=> Saving checkpoint\nPredicted sentence: \n ['the', 'boy', 'be', 'go', 'to', 'school', 'and', 'he', 'be', 'carry', 'a', 'big', 'bag', '.', '<eos>']\n[Epoch 82 / 1000]\n=> Saving checkpoint\nPredicted sentence: \n ['the', 'boy', 'be', 'go', 'to', 'school', 'and', 'he', 'be', 'carry', 'a', 'big', 'bag', '.', '<eos>']\n"
    },
    {
     "output_type": "error",
     "ename": "KeyboardInterrupt",
     "evalue": "",
     "traceback": [
      "\u001b[1;31m---------------------------------------------------------------------------\u001b[0m",
      "\u001b[1;31mKeyboardInterrupt\u001b[0m                         Traceback (most recent call last)",
      "\u001b[1;32m<ipython-input-20-67b7c03bcfb6>\u001b[0m in \u001b[0;36m<module>\u001b[1;34m\u001b[0m\n\u001b[0;32m     41\u001b[0m \u001b[1;33m\u001b[0m\u001b[0m\n\u001b[0;32m     42\u001b[0m         \u001b[1;31m# Back prop\u001b[0m\u001b[1;33m\u001b[0m\u001b[1;33m\u001b[0m\u001b[1;33m\u001b[0m\u001b[0m\n\u001b[1;32m---> 43\u001b[1;33m         \u001b[0mloss\u001b[0m\u001b[1;33m.\u001b[0m\u001b[0mbackward\u001b[0m\u001b[1;33m(\u001b[0m\u001b[1;33m)\u001b[0m\u001b[1;33m\u001b[0m\u001b[1;33m\u001b[0m\u001b[0m\n\u001b[0m\u001b[0;32m     44\u001b[0m         \u001b[1;31m# Clip to avoid exploding gradient issues, makes sure grads are\u001b[0m\u001b[1;33m\u001b[0m\u001b[1;33m\u001b[0m\u001b[1;33m\u001b[0m\u001b[0m\n\u001b[0;32m     45\u001b[0m         \u001b[1;31m# within a healthy range\u001b[0m\u001b[1;33m\u001b[0m\u001b[1;33m\u001b[0m\u001b[1;33m\u001b[0m\u001b[0m\n",
      "\u001b[1;32mc:\\Users\\shoeb\\Desktop\\Projects\\virtualEnvs\\transformers\\lib\\site-packages\\torch\\tensor.py\u001b[0m in \u001b[0;36mbackward\u001b[1;34m(self, gradient, retain_graph, create_graph)\u001b[0m\n\u001b[0;32m    183\u001b[0m                 \u001b[0mproducts\u001b[0m\u001b[1;33m.\u001b[0m \u001b[0mDefaults\u001b[0m \u001b[0mto\u001b[0m\u001b[0;31m \u001b[0m\u001b[0;31m`\u001b[0m\u001b[0;31m`\u001b[0m\u001b[1;32mFalse\u001b[0m\u001b[0;31m`\u001b[0m\u001b[0;31m`\u001b[0m\u001b[1;33m.\u001b[0m\u001b[1;33m\u001b[0m\u001b[1;33m\u001b[0m\u001b[0m\n\u001b[0;32m    184\u001b[0m         \"\"\"\n\u001b[1;32m--> 185\u001b[1;33m         \u001b[0mtorch\u001b[0m\u001b[1;33m.\u001b[0m\u001b[0mautograd\u001b[0m\u001b[1;33m.\u001b[0m\u001b[0mbackward\u001b[0m\u001b[1;33m(\u001b[0m\u001b[0mself\u001b[0m\u001b[1;33m,\u001b[0m \u001b[0mgradient\u001b[0m\u001b[1;33m,\u001b[0m \u001b[0mretain_graph\u001b[0m\u001b[1;33m,\u001b[0m \u001b[0mcreate_graph\u001b[0m\u001b[1;33m)\u001b[0m\u001b[1;33m\u001b[0m\u001b[1;33m\u001b[0m\u001b[0m\n\u001b[0m\u001b[0;32m    186\u001b[0m \u001b[1;33m\u001b[0m\u001b[0m\n\u001b[0;32m    187\u001b[0m     \u001b[1;32mdef\u001b[0m \u001b[0mregister_hook\u001b[0m\u001b[1;33m(\u001b[0m\u001b[0mself\u001b[0m\u001b[1;33m,\u001b[0m \u001b[0mhook\u001b[0m\u001b[1;33m)\u001b[0m\u001b[1;33m:\u001b[0m\u001b[1;33m\u001b[0m\u001b[1;33m\u001b[0m\u001b[0m\n",
      "\u001b[1;32mc:\\Users\\shoeb\\Desktop\\Projects\\virtualEnvs\\transformers\\lib\\site-packages\\torch\\autograd\\__init__.py\u001b[0m in \u001b[0;36mbackward\u001b[1;34m(tensors, grad_tensors, retain_graph, create_graph, grad_variables)\u001b[0m\n\u001b[0;32m    123\u001b[0m         \u001b[0mretain_graph\u001b[0m \u001b[1;33m=\u001b[0m \u001b[0mcreate_graph\u001b[0m\u001b[1;33m\u001b[0m\u001b[1;33m\u001b[0m\u001b[0m\n\u001b[0;32m    124\u001b[0m \u001b[1;33m\u001b[0m\u001b[0m\n\u001b[1;32m--> 125\u001b[1;33m     Variable._execution_engine.run_backward(\n\u001b[0m\u001b[0;32m    126\u001b[0m         \u001b[0mtensors\u001b[0m\u001b[1;33m,\u001b[0m \u001b[0mgrad_tensors\u001b[0m\u001b[1;33m,\u001b[0m \u001b[0mretain_graph\u001b[0m\u001b[1;33m,\u001b[0m \u001b[0mcreate_graph\u001b[0m\u001b[1;33m,\u001b[0m\u001b[1;33m\u001b[0m\u001b[1;33m\u001b[0m\u001b[0m\n\u001b[0;32m    127\u001b[0m         allow_unreachable=True)  # allow_unreachable flag\n",
      "\u001b[1;31mKeyboardInterrupt\u001b[0m: "
     ]
    }
   ],
   "source": [
    "for epoch in range(num_epochs):\n",
    "    print(f\"[Epoch {epoch} / {num_epochs}]\")\n",
    "\n",
    "    if save_model:\n",
    "        checkpoint = {\n",
    "            \"state_dict\": model.state_dict(),\n",
    "            \"optimizer\": optimizer.state_dict(),\n",
    "        }\n",
    "        save_checkpoint(checkpoint)\n",
    "\n",
    "    model.eval()\n",
    "    processed_sentence = process_sentence(\n",
    "        model, sentence, inputText, outputText, device, max_length=50\n",
    "    )\n",
    "\n",
    "    print(f\"Predicted sentence: \\n {processed_sentence}\")\n",
    "    model.train()\n",
    "    losses = []\n",
    "\n",
    "    for batch_idx, batch in enumerate(train_iterator):\n",
    "        # Get input and targets and get to cuda\n",
    "        inp_data = batch.inputText.to(device)\n",
    "        target = batch.outputText.to(device)\n",
    "\n",
    "        # Forward prop\n",
    "        output = model(inp_data, target[:-1, :])\n",
    "\n",
    "        # Output is of shape (trg_len, batch_size, output_dim) but Cross Entropy Loss\n",
    "        # doesn't take input in that form. For example if we have MNIST we want to have\n",
    "        # output to be: (N, 10) and targets just (N). Here we can view it in a similar\n",
    "        # way that we have output_words * batch_size that we want to send in into\n",
    "        # our cost function, so we need to do some reshapin.\n",
    "        # Let's also remove the start token while we're at it\n",
    "        output = output.reshape(-1, output.shape[2])\n",
    "        target = target[1:].reshape(-1)\n",
    "\n",
    "        optimizer.zero_grad()\n",
    "\n",
    "        loss = criterion(output, target)\n",
    "        losses.append(loss.item())\n",
    "\n",
    "        # Back prop\n",
    "        loss.backward()\n",
    "        # Clip to avoid exploding gradient issues, makes sure grads are\n",
    "        # within a healthy range\n",
    "        torch.nn.utils.clip_grad_norm_(model.parameters(), max_norm=1)\n",
    "\n",
    "        # Gradient descent step\n",
    "        optimizer.step()\n",
    "\n",
    "        # plot to tensorboard\n",
    "        writer.add_scalar(\"Training loss\", loss, global_step=step)\n",
    "        step += 1\n",
    "\n",
    "    mean_loss = sum(losses) / len(losses)\n",
    "    scheduler.step(mean_loss)"
   ]
  },
  {
   "cell_type": "code",
   "execution_count": 68,
   "metadata": {
    "tags": []
   },
   "outputs": [
    {
     "output_type": "stream",
     "name": "stdout",
     "text": "['the', 'deputy', 'prime', 'minister', 'said', 'based', 'on', 'these', 'three', 'principles', ',', 'felda', ',', 'which', 'is', 'now', '50', 'years', 'old', ',', 'would', 'grow', 'and', 'strengthen', 'all', 'its', 'activities', 'from', 'the', 'settlers', 'community', 'level', 'right', 'up', 'to', 'the', 'global', 'level', '.']\n"
    }
   ],
   "source": [
    "for ex in valid_data:\n",
    "    print(vars(ex)[\"inputText\"])\n",
    "    break"
   ]
  },
  {
   "cell_type": "code",
   "execution_count": null,
   "metadata": {},
   "outputs": [],
   "source": []
  }
 ]
}