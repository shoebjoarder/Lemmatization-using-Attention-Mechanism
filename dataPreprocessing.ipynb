{
 "cells": [
  {
   "cell_type": "code",
   "execution_count": 1,
   "metadata": {
    "tags": []
   },
   "outputs": [
    {
     "output_type": "stream",
     "name": "stdout",
     "text": "CPython 3.8.3\nIPython 7.17.0\n\nnumpy 1.18.5\npandas 1.1.0\ntorch 1.6.0\ntransformers 3.0.2\n"
    }
   ],
   "source": [
    "%reload_ext watermark\n",
    "%watermark -v -p numpy,pandas,torch,transformers"
   ]
  },
  {
   "cell_type": "code",
   "execution_count": 2,
   "metadata": {},
   "outputs": [
    {
     "output_type": "execute_result",
     "data": {
      "text/plain": "device(type='cuda', index=0)"
     },
     "metadata": {},
     "execution_count": 2
    }
   ],
   "source": [
    "# Import necessary libraries\n",
    "import transformers\n",
    "from transformers import BertModel, BertTokenizer, AdamW, get_linear_schedule_with_warmup\n",
    "import torch\n",
    "\n",
    "import numpy as np\n",
    "import pandas as pd\n",
    "import seaborn as sns\n",
    "from pylab import rcParams\n",
    "import matplotlib.pyplot as plt\n",
    "from matplotlib import rc\n",
    "from sklearn.model_selection import train_test_split\n",
    "from sklearn.metrics import confusion_matrix, classification_report\n",
    "from collections import defaultdict\n",
    "from textwrap import wrap\n",
    "from pprint import pprint\n",
    "\n",
    "from torch import nn, optim\n",
    "from torch.utils.data import Dataset, DataLoader\n",
    "import torch.nn.functional as F\n",
    "\n",
    "%matplotlib inline\n",
    "%config InlineBackend.figure_format='retina'\n",
    "\n",
    "sns.set(style='whitegrid', palette='muted', font_scale=1.2)\n",
    "\n",
    "HAPPY_COLORS_PALETTE = [\"#01BEFE\", \"#FFDD00\", \"#FF7D00\", \"#FF006D\", \"#ADFF02\", \"#8F00FF\"]\n",
    "\n",
    "sns.set_palette(sns.color_palette(HAPPY_COLORS_PALETTE))\n",
    "\n",
    "rcParams['figure.figsize'] = 12, 8\n",
    "\n",
    "RANDOM_SEED = 42\n",
    "np.random.seed(RANDOM_SEED)\n",
    "torch.manual_seed(RANDOM_SEED)\n",
    "\n",
    "device = torch.device(\"cuda:0\" if torch.cuda.is_available() else \"cpu\")\n",
    "device"
   ]
  },
  {
   "cell_type": "code",
   "execution_count": 3,
   "metadata": {},
   "outputs": [
    {
     "output_type": "execute_result",
     "data": {
      "text/plain": "                                                word  \\\n0  10 Years of Time Team presented a round- up wh...   \n1  13 October 1962 marked the initial working ses...   \n2  1945 Overhauled, Indianapolis joined Vice Admi...   \n3  1965 was also the deadline for AAFSS selection...   \n4  1969 to 1982 The British Telecom\" T symbol log...   \n\n                                               lemma  \n0  10 year of Time team present a round- up what ...  \n1  13 October 1962 mark the initial working sessi...  \n2  1945 overhaul, Indianapolis join vice Admiral ...  \n3  1965 be also the deadline for AAFSS selection,...  \n4  1969 to 1982 the British Telecom\" T symbol log...  ",
      "text/html": "<div>\n<style scoped>\n    .dataframe tbody tr th:only-of-type {\n        vertical-align: middle;\n    }\n\n    .dataframe tbody tr th {\n        vertical-align: top;\n    }\n\n    .dataframe thead th {\n        text-align: right;\n    }\n</style>\n<table border=\"1\" class=\"dataframe\">\n  <thead>\n    <tr style=\"text-align: right;\">\n      <th></th>\n      <th>word</th>\n      <th>lemma</th>\n    </tr>\n  </thead>\n  <tbody>\n    <tr>\n      <th>0</th>\n      <td>10 Years of Time Team presented a round- up wh...</td>\n      <td>10 year of Time team present a round- up what ...</td>\n    </tr>\n    <tr>\n      <th>1</th>\n      <td>13 October 1962 marked the initial working ses...</td>\n      <td>13 October 1962 mark the initial working sessi...</td>\n    </tr>\n    <tr>\n      <th>2</th>\n      <td>1945 Overhauled, Indianapolis joined Vice Admi...</td>\n      <td>1945 overhaul, Indianapolis join vice Admiral ...</td>\n    </tr>\n    <tr>\n      <th>3</th>\n      <td>1965 was also the deadline for AAFSS selection...</td>\n      <td>1965 be also the deadline for AAFSS selection,...</td>\n    </tr>\n    <tr>\n      <th>4</th>\n      <td>1969 to 1982 The British Telecom\" T symbol log...</td>\n      <td>1969 to 1982 the British Telecom\" T symbol log...</td>\n    </tr>\n  </tbody>\n</table>\n</div>"
     },
     "metadata": {},
     "execution_count": 3
    }
   ],
   "source": [
    "df = pd.read_csv(\"./data/eng-lem.csv\", sep='\\t', header=0)\n",
    "df.head()"
   ]
  },
  {
   "cell_type": "code",
   "execution_count": 4,
   "metadata": {},
   "outputs": [
    {
     "output_type": "execute_result",
     "data": {
      "text/plain": "(9820, 2)"
     },
     "metadata": {},
     "execution_count": 4
    }
   ],
   "source": [
    "df.shape"
   ]
  },
  {
   "cell_type": "code",
   "execution_count": 5,
   "metadata": {
    "tags": []
   },
   "outputs": [
    {
     "output_type": "stream",
     "name": "stdout",
     "text": "<class 'pandas.core.frame.DataFrame'>\nRangeIndex: 9820 entries, 0 to 9819\nData columns (total 2 columns):\n #   Column  Non-Null Count  Dtype \n---  ------  --------------  ----- \n 0   word    9820 non-null   object\n 1   lemma   9820 non-null   object\ndtypes: object(2)\nmemory usage: 153.6+ KB\n"
    }
   ],
   "source": [
    "df.info()"
   ]
  },
  {
   "cell_type": "code",
   "execution_count": 6,
   "metadata": {},
   "outputs": [],
   "source": [
    "PRE_TRAINED_MODEL_NAME = 'bert-base-cased'"
   ]
  },
  {
   "cell_type": "code",
   "execution_count": 7,
   "metadata": {
    "tags": []
   },
   "outputs": [],
   "source": [
    "tokenizer = BertTokenizer.from_pretrained(PRE_TRAINED_MODEL_NAME)"
   ]
  },
  {
   "cell_type": "code",
   "execution_count": 8,
   "metadata": {},
   "outputs": [
    {
     "output_type": "execute_result",
     "data": {
      "text/plain": "('1965 was also the deadline for AAFSS selection, but program would become stuck in technical difficulties and political bickering.',\n '1965 be also the deadline for AAFSS selection, but program would become stick in technical difficulty and political bickering.')"
     },
     "metadata": {},
     "execution_count": 8
    }
   ],
   "source": [
    "sample_txt = df['word'][3]\n",
    "sample_txt2 = df['lemma'][3]\n",
    "sample_txt, sample_txt2"
   ]
  },
  {
   "cell_type": "code",
   "execution_count": 9,
   "metadata": {
    "tags": []
   },
   "outputs": [
    {
     "output_type": "stream",
     "name": "stdout",
     "text": "Sentence: 1965 was also the deadline for AAFSS selection, but program would become stuck in technical difficulties and political bickering.\n   Tokens: ['1965', 'be', 'also', 'the', 'deadline', 'for', 'AA', '##FS', '##S', 'selection', ',', 'but', 'program', 'would', 'become', 'stick', 'in', 'technical', 'difficulty', 'and', 'political', 'bi', '##cker', '##ing', '.']\nToken IDs: [2679, 1129, 1145, 1103, 17638, 1111, 10419, 17691, 1708, 4557, 117, 1133, 1788, 1156, 1561, 6166, 1107, 4301, 7262, 1105, 1741, 16516, 8638, 1158, 119]\n"
    }
   ],
   "source": [
    "tokens = tokenizer.tokenize(sample_txt2)\n",
    "token_ids = tokenizer.convert_tokens_to_ids(tokens)\n",
    "\n",
    "print(f' Sentence: {sample_txt}')\n",
    "print(f'   Tokens: {tokens}')\n",
    "print(f'Token IDs: {token_ids}')"
   ]
  },
  {
   "cell_type": "code",
   "execution_count": 10,
   "metadata": {
    "tags": []
   },
   "outputs": [
    {
     "output_type": "execute_result",
     "data": {
      "text/plain": "dict_keys(['input_ids', 'attention_mask'])"
     },
     "metadata": {},
     "execution_count": 10
    }
   ],
   "source": [
    "encoding_original = tokenizer.encode_plus(\n",
    "  sample_txt,\n",
    "  max_length=32,\n",
    "  add_special_tokens=True,\n",
    "  return_token_type_ids=False,\n",
    "  pad_to_max_length=True,\n",
    "  return_attention_mask=True,\n",
    "  return_tensors='pt',\n",
    "  truncation=True\n",
    ")\n",
    "\n",
    "encoding_original.keys()"
   ]
  },
  {
   "cell_type": "code",
   "execution_count": 11,
   "metadata": {},
   "outputs": [
    {
     "output_type": "execute_result",
     "data": {
      "text/plain": "dict_keys(['input_ids', 'attention_mask'])"
     },
     "metadata": {},
     "execution_count": 11
    }
   ],
   "source": [
    "encoding_target = tokenizer.encode_plus(\n",
    "  sample_txt2,\n",
    "  max_length=32,\n",
    "  add_special_tokens=True,\n",
    "  return_token_type_ids=False,\n",
    "  pad_to_max_length=True,\n",
    "  return_attention_mask=True,\n",
    "  return_tensors='pt',\n",
    "  truncation=True\n",
    ")\n",
    "\n",
    "encoding_target.keys()"
   ]
  },
  {
   "cell_type": "code",
   "execution_count": 12,
   "metadata": {
    "tags": []
   },
   "outputs": [
    {
     "output_type": "stream",
     "name": "stdout",
     "text": "32\n"
    },
    {
     "output_type": "execute_result",
     "data": {
      "text/plain": "tensor([  101,  2679,  1108,  1145,  1103, 17638,  1111, 10419, 17691,  1708,\n         4557,   117,  1133,  1788,  1156,  1561,  5342,  1107,  4301,  7866,\n         1105,  1741, 16516,  8638,  1158,   119,   102,     0,     0,     0,\n            0,     0])"
     },
     "metadata": {},
     "execution_count": 12
    }
   ],
   "source": [
    "print(len(encoding_original['input_ids'][0]))\n",
    "encoding_original['input_ids'][0]"
   ]
  },
  {
   "cell_type": "code",
   "execution_count": 13,
   "metadata": {
    "tags": []
   },
   "outputs": [
    {
     "output_type": "stream",
     "name": "stdout",
     "text": "32\n"
    },
    {
     "output_type": "execute_result",
     "data": {
      "text/plain": "tensor([  101,  2679,  1129,  1145,  1103, 17638,  1111, 10419, 17691,  1708,\n         4557,   117,  1133,  1788,  1156,  1561,  6166,  1107,  4301,  7262,\n         1105,  1741, 16516,  8638,  1158,   119,   102,     0,     0,     0,\n            0,     0])"
     },
     "metadata": {},
     "execution_count": 13
    }
   ],
   "source": [
    "print(len(encoding_target['input_ids'][0]))\n",
    "encoding_target['input_ids'][0]"
   ]
  },
  {
   "cell_type": "code",
   "execution_count": 14,
   "metadata": {
    "tags": []
   },
   "outputs": [
    {
     "output_type": "stream",
     "name": "stdout",
     "text": "32\n"
    },
    {
     "output_type": "execute_result",
     "data": {
      "text/plain": "tensor([[1, 1, 1, 1, 1, 1, 1, 1, 1, 1, 1, 1, 1, 1, 1, 1, 1, 1, 1, 1, 1, 1, 1, 1,\n         1, 1, 1, 0, 0, 0, 0, 0]])"
     },
     "metadata": {},
     "execution_count": 14
    }
   ],
   "source": [
    "print(len(encoding_original['attention_mask'][0]))\n",
    "encoding_original['attention_mask']"
   ]
  },
  {
   "cell_type": "code",
   "execution_count": 15,
   "metadata": {
    "tags": []
   },
   "outputs": [
    {
     "output_type": "stream",
     "name": "stdout",
     "text": "32\n"
    },
    {
     "output_type": "execute_result",
     "data": {
      "text/plain": "tensor([[1, 1, 1, 1, 1, 1, 1, 1, 1, 1, 1, 1, 1, 1, 1, 1, 1, 1, 1, 1, 1, 1, 1, 1,\n         1, 1, 1, 0, 0, 0, 0, 0]])"
     },
     "metadata": {},
     "execution_count": 15
    }
   ],
   "source": [
    "print(len(encoding_target['attention_mask'][0]))\n",
    "encoding_target['attention_mask']"
   ]
  },
  {
   "cell_type": "code",
   "execution_count": 16,
   "metadata": {},
   "outputs": [
    {
     "output_type": "execute_result",
     "data": {
      "text/plain": "(['[CLS]',\n  '1965',\n  'was',\n  'also',\n  'the',\n  'deadline',\n  'for',\n  'AA',\n  '##FS',\n  '##S',\n  'selection',\n  ',',\n  'but',\n  'program',\n  'would',\n  'become',\n  'stuck',\n  'in',\n  'technical',\n  'difficulties',\n  'and',\n  'political',\n  'bi',\n  '##cker',\n  '##ing',\n  '.',\n  '[SEP]',\n  '[PAD]',\n  '[PAD]',\n  '[PAD]',\n  '[PAD]',\n  '[PAD]'],\n ['[CLS]',\n  '1965',\n  'be',\n  'also',\n  'the',\n  'deadline',\n  'for',\n  'AA',\n  '##FS',\n  '##S',\n  'selection',\n  ',',\n  'but',\n  'program',\n  'would',\n  'become',\n  'stick',\n  'in',\n  'technical',\n  'difficulty',\n  'and',\n  'political',\n  'bi',\n  '##cker',\n  '##ing',\n  '.',\n  '[SEP]',\n  '[PAD]',\n  '[PAD]',\n  '[PAD]',\n  '[PAD]',\n  '[PAD]'])"
     },
     "metadata": {},
     "execution_count": 16
    }
   ],
   "source": [
    "tokenizer.convert_ids_to_tokens(encoding_original['input_ids'][0]), tokenizer.convert_ids_to_tokens(encoding_target['input_ids'][0])"
   ]
  },
  {
   "cell_type": "code",
   "execution_count": 17,
   "metadata": {
    "tags": []
   },
   "outputs": [],
   "source": [
    "token_lens = []\n",
    "\n",
    "for txt in df.word:\n",
    "  tokens = tokenizer.encode(txt, max_length=512, truncation=True)\n",
    "  token_lens.append(len(tokens))"
   ]
  },
  {
   "cell_type": "code",
   "execution_count": 18,
   "metadata": {},
   "outputs": [
    {
     "output_type": "display_data",
     "data": {
      "text/plain": "<Figure size 864x576 with 1 Axes>",
      "image/png": "[encoded data removed]"
     },
     "metadata": {
      "image/png": {
       "width": 737,
       "height": 487
      }
     }
    }
   ],
   "source": [
    "sns.distplot(token_lens)\n",
    "plt.xlim([0, 100]);\n",
    "plt.xlabel('Token count');"
   ]
  },
  {
   "cell_type": "code",
   "execution_count": 19,
   "metadata": {},
   "outputs": [],
   "source": [
    "MAX_LEN = 60"
   ]
  },
  {
   "cell_type": "code",
   "execution_count": 20,
   "metadata": {},
   "outputs": [],
   "source": [
    "# Creating a torch dataset\n",
    "class LemmatizationNLP(Dataset):\n",
    "  # Constructor\n",
    "  def __init__(self, originals, targets, tokenizer, max_len):\n",
    "    self.originals = originals\n",
    "    self.targets = targets\n",
    "    self.tokenizer = tokenizer\n",
    "    self.max_len = max_len\n",
    "  \n",
    "  def __len__(self):\n",
    "    # Denotes the total number of sentences\n",
    "    return len(self.originals)\n",
    "  \n",
    "  def __getitem__(self, item):\n",
    "    # Generates one sample of data\n",
    "    original = str(self.originals[item])\n",
    "    target = str(self.targets[item])\n",
    "\n",
    "    encoding_original = self.tokenizer.encode_plus(\n",
    "      original,\n",
    "      add_special_tokens=True,\n",
    "      max_length=self.max_len,\n",
    "      return_token_type_ids=False,\n",
    "      pad_to_max_length=True,\n",
    "      return_attention_mask=True,\n",
    "      return_tensors='pt',\n",
    "      truncation=True\n",
    "    )\n",
    "\n",
    "    encoding_target = self.tokenizer.encode_plus(\n",
    "      target,\n",
    "      add_special_tokens=True,\n",
    "      max_length=self.max_len,\n",
    "      return_token_type_ids=False,\n",
    "      pad_to_max_length=True,\n",
    "      return_attention_mask=True,\n",
    "      return_tensors='pt',\n",
    "      truncation=True\n",
    "    )\n",
    "\n",
    "    return {\n",
    "      'original_text': original,\n",
    "      'target_text': target,\n",
    "      'input_ids': encoding_original['input_ids'].flatten(),\n",
    "      'attention_mask': encoding_original['attention_mask'].flatten(),\n",
    "      'target_ids': encoding_target['input_ids'].flatten(),\n",
    "      'target_attention_mask': encoding_target['attention_mask'].flatten()\n",
    "    }"
   ]
  },
  {
   "cell_type": "code",
   "execution_count": 21,
   "metadata": {},
   "outputs": [],
   "source": [
    "df_train, df_test = train_test_split(\n",
    "    df, \n",
    "    test_size=0.1, \n",
    "    random_state=RANDOM_SEED)\n",
    "\n",
    "df_val, df_test = train_test_split(\n",
    "    df_test, \n",
    "    test_size=0.5, \n",
    "    random_state=RANDOM_SEED)"
   ]
  },
  {
   "cell_type": "code",
   "execution_count": 22,
   "metadata": {},
   "outputs": [
    {
     "output_type": "execute_result",
     "data": {
      "text/plain": "((8838, 2), (491, 2), (491, 2))"
     },
     "metadata": {},
     "execution_count": 22
    }
   ],
   "source": [
    "df_train.shape, df_val.shape, df_test.shape"
   ]
  },
  {
   "cell_type": "code",
   "execution_count": 23,
   "metadata": {},
   "outputs": [],
   "source": [
    "def create_data_loader(df, tokenizer, max_len, batch_size):\n",
    "  dataset = LemmatizationNLP(\n",
    "    originals=df.word.to_numpy(),\n",
    "    targets=df.lemma.to_numpy(),\n",
    "    tokenizer=tokenizer,\n",
    "    max_len=max_len\n",
    "  )\n",
    "\n",
    "  return DataLoader(\n",
    "    dataset,\n",
    "    batch_size=batch_size,\n",
    "    num_workers=0\n",
    "  )"
   ]
  },
  {
   "cell_type": "code",
   "execution_count": 24,
   "metadata": {},
   "outputs": [],
   "source": [
    "BATCH_SIZE = 16\n",
    "MAX_EPOCH = 50\n",
    "\n",
    "train_data_loader = create_data_loader(df_train, tokenizer, MAX_LEN, BATCH_SIZE)\n",
    "val_data_loader = create_data_loader(df_val, tokenizer, MAX_LEN, BATCH_SIZE)\n",
    "test_data_loader = create_data_loader(df_test, tokenizer, MAX_LEN, BATCH_SIZE)"
   ]
  },
  {
   "cell_type": "code",
   "execution_count": 25,
   "metadata": {},
   "outputs": [
    {
     "output_type": "execute_result",
     "data": {
      "text/plain": "<torch.utils.data.dataloader.DataLoader at 0x1f49d421df0>"
     },
     "metadata": {},
     "execution_count": 25
    }
   ],
   "source": [
    "train_data_loader"
   ]
  },
  {
   "cell_type": "code",
   "execution_count": 26,
   "metadata": {},
   "outputs": [
    {
     "output_type": "execute_result",
     "data": {
      "text/plain": "dict_keys(['original_text', 'target_text', 'input_ids', 'attention_mask', 'target_ids', 'target_attention_mask'])"
     },
     "metadata": {},
     "execution_count": 26
    }
   ],
   "source": [
    "data = next(iter(train_data_loader))\n",
    "data.keys()"
   ]
  },
  {
   "cell_type": "code",
   "execution_count": 28,
   "metadata": {
    "tags": []
   },
   "outputs": [
    {
     "output_type": "stream",
     "name": "stdout",
     "text": "torch.Size([16, 60])\ntorch.Size([16, 60])\ntorch.Size([16, 60])\ntorch.Size([16, 60])\n"
    }
   ],
   "source": [
    "print(data['input_ids'].shape)\n",
    "print(data['attention_mask'].shape)\n",
    "print(data['target_ids'].shape)\n",
    "print(data['target_attention_mask'].shape)"
   ]
  },
  {
   "cell_type": "code",
   "execution_count": null,
   "metadata": {},
   "outputs": [],
   "source": []
  }
 ],
 "metadata": {
  "kernelspec": {
   "display_name": "Python 3.8.3 64-bit",
   "language": "python",
   "name": "python_defaultSpec_1597056477409"
  },
  "language_info": {
   "codemirror_mode": {
    "name": "ipython",
    "version": 3
   },
   "file_extension": ".py",
   "mimetype": "text/x-python",
   "name": "python",
   "nbconvert_exporter": "python",
   "pygments_lexer": "ipython3",
   "version": "3.8.3-final"
  }
 },
 "nbformat": 4,
 "nbformat_minor": 2
}